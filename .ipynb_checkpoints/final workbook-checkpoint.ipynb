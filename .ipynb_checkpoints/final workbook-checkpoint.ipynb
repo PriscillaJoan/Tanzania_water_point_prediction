{
 "cells": [
  {
   "cell_type": "markdown",
   "metadata": {},
   "source": [
    "## PROJECT OVERVIEW\n",
    "\n",
    "According to water.org, of the  59 million inhabitants in Tanzania, 16 million (28% of the total) do not have access to clean water, and 44 million (73%) do not have access to well run home sanitary facilities.  Furthermore, population increase, climate change-related extreme weather occurrences, and inadequate finance for government programmes all pose difficulties for the impoverished. For Tanzanian households, having access to clean water at home is more important than ever.\n",
    "\n",
    "This study seeks to use machine learning classification models to address this serious problem. This project is motivated by two goals: first, to learn more about the difficulties and obstacles encountered during Tanzania's well-drilling procedures; and second, to develop workable, data-driven solutions that may be applied to address this pressing problem.\n",
    "\n",
    "We aim to explore the abundance of information on water wells, where they are, and the various aspects that impact their performance by applying machine learning. We want to solve the complex puzzle of why certain wells perform well while others don't by examining this data. \n",
    "\n",
    "In addition to offering a thorough grasp of the issue, the knowledge gathered from this analysis will act as the basis for developing workable and efficient solutions.\n",
    "\n",
    "In the end, through increasing access to clean water, this initiative has the potential to have a major effect on Tanzanian individuals' lives. Additionally, it supports the primary objective of tackling the more significant worldwide issue of ensuring everyone has access to clean water and sanitary facilities. In order to accomplish the project's objectives and significantly improve the lives of the people impacted, collaboration with non-governmental organisations, local government agencies, and professionals in the field will be essential.\n",
    "\n",
    "The data used for this project is from the Driven Data website https://www.drivendata.org/competitions/7/pump-it-up-data-mining-the-water-table/page/25/\n"
   ]
  },
  {
   "cell_type": "markdown",
   "metadata": {},
   "source": [
    "**COLUMN DESCRIPTION**\n",
    "- amount_tsh - Total static head (amount water available to waterpoint)\n",
    "- gps_height - Altitude of the well\n",
    "- installer - Organization that installed the well\n",
    "- longitude - GPS coordinate\n",
    "- latitude - GPS coordinate\n",
    "- basin - Geographic water basin\n",
    "- subvillage - Geographic location\n",
    "- region - Geographic location\n",
    "- region_code - Geographic location (coded)\n",
    "- district_code - Geographic location (coded)\n",
    "- lga - Geographic location\n",
    "- ward - Geographic location\n",
    "- population - Population around the well\n",
    "- public_meeting - True/False\n",
    "- recorded_by - Group entering this row of data\n",
    "- scheme_management - Who operates the waterpoint\n",
    "- scheme_name - Who operates the waterpoint\n",
    "- permit - If the waterpoint is permitted\n",
    "- construction_year - Year the waterpoint was constructed\n",
    "- extraction_type - The kind of extraction the waterpoint uses\n",
    "- management - How the waterpoint is managed\n",
    "- management_group - How the waterpoint is managed\n",
    "- payment_type - What the water costs\n",
    "- water_quality - The quality of the water\n",
    "- quantity - The quantity of water\n",
    "- source - The source of the water\n",
    "- waterpoint_type - The kind of waterpoint\n",
    "\n"
   ]
  },
  {
   "cell_type": "markdown",
   "metadata": {},
   "source": [
    "DATA OVERVIEW"
   ]
  },
  {
   "cell_type": "code",
   "execution_count": 3,
   "metadata": {},
   "outputs": [],
   "source": [
    "#import the necessary libraries\n",
    "\n",
    "import pandas as pd\n",
    "import matplotlib.pyplot as plt\n",
    "import seaborn as sns"
   ]
  },
  {
   "cell_type": "code",
   "execution_count": 9,
   "metadata": {},
   "outputs": [
    {
     "ename": "FileNotFoundError",
     "evalue": "[Errno 2] No such file or directory: 'data/training_set_values.csv'",
     "output_type": "error",
     "traceback": [
      "\u001b[1;31m---------------------------------------------------------------------------\u001b[0m",
      "\u001b[1;31mFileNotFoundError\u001b[0m                         Traceback (most recent call last)",
      "\u001b[1;32m<ipython-input-9-2653c591c541>\u001b[0m in \u001b[0;36m<module>\u001b[1;34m\u001b[0m\n\u001b[0;32m      1\u001b[0m \u001b[1;31m#load data\u001b[0m\u001b[1;33m\u001b[0m\u001b[1;33m\u001b[0m\u001b[1;33m\u001b[0m\u001b[0m\n\u001b[1;32m----> 2\u001b[1;33m \u001b[0mtraining_set\u001b[0m \u001b[1;33m=\u001b[0m \u001b[0mpd\u001b[0m\u001b[1;33m.\u001b[0m\u001b[0mread_csv\u001b[0m\u001b[1;33m(\u001b[0m\u001b[1;34m'data/training_set_values.csv'\u001b[0m \u001b[1;33m,\u001b[0m \u001b[0mindex_col\u001b[0m \u001b[1;33m=\u001b[0m \u001b[1;36m0\u001b[0m\u001b[1;33m)\u001b[0m\u001b[1;33m\u001b[0m\u001b[1;33m\u001b[0m\u001b[0m\n\u001b[0m\u001b[0;32m      3\u001b[0m \u001b[0mtraining_set\u001b[0m\u001b[1;33m.\u001b[0m\u001b[0minfo\u001b[0m\u001b[1;33m(\u001b[0m\u001b[1;33m)\u001b[0m\u001b[1;33m\u001b[0m\u001b[1;33m\u001b[0m\u001b[0m\n",
      "\u001b[1;32mc:\\Users\\Admin\\anaconda3\\envs\\learn-env\\lib\\site-packages\\pandas\\io\\parsers.py\u001b[0m in \u001b[0;36mread_csv\u001b[1;34m(filepath_or_buffer, sep, delimiter, header, names, index_col, usecols, squeeze, prefix, mangle_dupe_cols, dtype, engine, converters, true_values, false_values, skipinitialspace, skiprows, skipfooter, nrows, na_values, keep_default_na, na_filter, verbose, skip_blank_lines, parse_dates, infer_datetime_format, keep_date_col, date_parser, dayfirst, cache_dates, iterator, chunksize, compression, thousands, decimal, lineterminator, quotechar, quoting, doublequote, escapechar, comment, encoding, dialect, error_bad_lines, warn_bad_lines, delim_whitespace, low_memory, memory_map, float_precision)\u001b[0m\n\u001b[0;32m    684\u001b[0m     )\n\u001b[0;32m    685\u001b[0m \u001b[1;33m\u001b[0m\u001b[0m\n\u001b[1;32m--> 686\u001b[1;33m     \u001b[1;32mreturn\u001b[0m \u001b[0m_read\u001b[0m\u001b[1;33m(\u001b[0m\u001b[0mfilepath_or_buffer\u001b[0m\u001b[1;33m,\u001b[0m \u001b[0mkwds\u001b[0m\u001b[1;33m)\u001b[0m\u001b[1;33m\u001b[0m\u001b[1;33m\u001b[0m\u001b[0m\n\u001b[0m\u001b[0;32m    687\u001b[0m \u001b[1;33m\u001b[0m\u001b[0m\n\u001b[0;32m    688\u001b[0m \u001b[1;33m\u001b[0m\u001b[0m\n",
      "\u001b[1;32mc:\\Users\\Admin\\anaconda3\\envs\\learn-env\\lib\\site-packages\\pandas\\io\\parsers.py\u001b[0m in \u001b[0;36m_read\u001b[1;34m(filepath_or_buffer, kwds)\u001b[0m\n\u001b[0;32m    450\u001b[0m \u001b[1;33m\u001b[0m\u001b[0m\n\u001b[0;32m    451\u001b[0m     \u001b[1;31m# Create the parser.\u001b[0m\u001b[1;33m\u001b[0m\u001b[1;33m\u001b[0m\u001b[1;33m\u001b[0m\u001b[0m\n\u001b[1;32m--> 452\u001b[1;33m     \u001b[0mparser\u001b[0m \u001b[1;33m=\u001b[0m \u001b[0mTextFileReader\u001b[0m\u001b[1;33m(\u001b[0m\u001b[0mfp_or_buf\u001b[0m\u001b[1;33m,\u001b[0m \u001b[1;33m**\u001b[0m\u001b[0mkwds\u001b[0m\u001b[1;33m)\u001b[0m\u001b[1;33m\u001b[0m\u001b[1;33m\u001b[0m\u001b[0m\n\u001b[0m\u001b[0;32m    453\u001b[0m \u001b[1;33m\u001b[0m\u001b[0m\n\u001b[0;32m    454\u001b[0m     \u001b[1;32mif\u001b[0m \u001b[0mchunksize\u001b[0m \u001b[1;32mor\u001b[0m \u001b[0miterator\u001b[0m\u001b[1;33m:\u001b[0m\u001b[1;33m\u001b[0m\u001b[1;33m\u001b[0m\u001b[0m\n",
      "\u001b[1;32mc:\\Users\\Admin\\anaconda3\\envs\\learn-env\\lib\\site-packages\\pandas\\io\\parsers.py\u001b[0m in \u001b[0;36m__init__\u001b[1;34m(self, f, engine, **kwds)\u001b[0m\n\u001b[0;32m    944\u001b[0m             \u001b[0mself\u001b[0m\u001b[1;33m.\u001b[0m\u001b[0moptions\u001b[0m\u001b[1;33m[\u001b[0m\u001b[1;34m\"has_index_names\"\u001b[0m\u001b[1;33m]\u001b[0m \u001b[1;33m=\u001b[0m \u001b[0mkwds\u001b[0m\u001b[1;33m[\u001b[0m\u001b[1;34m\"has_index_names\"\u001b[0m\u001b[1;33m]\u001b[0m\u001b[1;33m\u001b[0m\u001b[1;33m\u001b[0m\u001b[0m\n\u001b[0;32m    945\u001b[0m \u001b[1;33m\u001b[0m\u001b[0m\n\u001b[1;32m--> 946\u001b[1;33m         \u001b[0mself\u001b[0m\u001b[1;33m.\u001b[0m\u001b[0m_make_engine\u001b[0m\u001b[1;33m(\u001b[0m\u001b[0mself\u001b[0m\u001b[1;33m.\u001b[0m\u001b[0mengine\u001b[0m\u001b[1;33m)\u001b[0m\u001b[1;33m\u001b[0m\u001b[1;33m\u001b[0m\u001b[0m\n\u001b[0m\u001b[0;32m    947\u001b[0m \u001b[1;33m\u001b[0m\u001b[0m\n\u001b[0;32m    948\u001b[0m     \u001b[1;32mdef\u001b[0m \u001b[0mclose\u001b[0m\u001b[1;33m(\u001b[0m\u001b[0mself\u001b[0m\u001b[1;33m)\u001b[0m\u001b[1;33m:\u001b[0m\u001b[1;33m\u001b[0m\u001b[1;33m\u001b[0m\u001b[0m\n",
      "\u001b[1;32mc:\\Users\\Admin\\anaconda3\\envs\\learn-env\\lib\\site-packages\\pandas\\io\\parsers.py\u001b[0m in \u001b[0;36m_make_engine\u001b[1;34m(self, engine)\u001b[0m\n\u001b[0;32m   1176\u001b[0m     \u001b[1;32mdef\u001b[0m \u001b[0m_make_engine\u001b[0m\u001b[1;33m(\u001b[0m\u001b[0mself\u001b[0m\u001b[1;33m,\u001b[0m \u001b[0mengine\u001b[0m\u001b[1;33m=\u001b[0m\u001b[1;34m\"c\"\u001b[0m\u001b[1;33m)\u001b[0m\u001b[1;33m:\u001b[0m\u001b[1;33m\u001b[0m\u001b[1;33m\u001b[0m\u001b[0m\n\u001b[0;32m   1177\u001b[0m         \u001b[1;32mif\u001b[0m \u001b[0mengine\u001b[0m \u001b[1;33m==\u001b[0m \u001b[1;34m\"c\"\u001b[0m\u001b[1;33m:\u001b[0m\u001b[1;33m\u001b[0m\u001b[1;33m\u001b[0m\u001b[0m\n\u001b[1;32m-> 1178\u001b[1;33m             \u001b[0mself\u001b[0m\u001b[1;33m.\u001b[0m\u001b[0m_engine\u001b[0m \u001b[1;33m=\u001b[0m \u001b[0mCParserWrapper\u001b[0m\u001b[1;33m(\u001b[0m\u001b[0mself\u001b[0m\u001b[1;33m.\u001b[0m\u001b[0mf\u001b[0m\u001b[1;33m,\u001b[0m \u001b[1;33m**\u001b[0m\u001b[0mself\u001b[0m\u001b[1;33m.\u001b[0m\u001b[0moptions\u001b[0m\u001b[1;33m)\u001b[0m\u001b[1;33m\u001b[0m\u001b[1;33m\u001b[0m\u001b[0m\n\u001b[0m\u001b[0;32m   1179\u001b[0m         \u001b[1;32melse\u001b[0m\u001b[1;33m:\u001b[0m\u001b[1;33m\u001b[0m\u001b[1;33m\u001b[0m\u001b[0m\n\u001b[0;32m   1180\u001b[0m             \u001b[1;32mif\u001b[0m \u001b[0mengine\u001b[0m \u001b[1;33m==\u001b[0m \u001b[1;34m\"python\"\u001b[0m\u001b[1;33m:\u001b[0m\u001b[1;33m\u001b[0m\u001b[1;33m\u001b[0m\u001b[0m\n",
      "\u001b[1;32mc:\\Users\\Admin\\anaconda3\\envs\\learn-env\\lib\\site-packages\\pandas\\io\\parsers.py\u001b[0m in \u001b[0;36m__init__\u001b[1;34m(self, src, **kwds)\u001b[0m\n\u001b[0;32m   2006\u001b[0m         \u001b[0mkwds\u001b[0m\u001b[1;33m[\u001b[0m\u001b[1;34m\"usecols\"\u001b[0m\u001b[1;33m]\u001b[0m \u001b[1;33m=\u001b[0m \u001b[0mself\u001b[0m\u001b[1;33m.\u001b[0m\u001b[0musecols\u001b[0m\u001b[1;33m\u001b[0m\u001b[1;33m\u001b[0m\u001b[0m\n\u001b[0;32m   2007\u001b[0m \u001b[1;33m\u001b[0m\u001b[0m\n\u001b[1;32m-> 2008\u001b[1;33m         \u001b[0mself\u001b[0m\u001b[1;33m.\u001b[0m\u001b[0m_reader\u001b[0m \u001b[1;33m=\u001b[0m \u001b[0mparsers\u001b[0m\u001b[1;33m.\u001b[0m\u001b[0mTextReader\u001b[0m\u001b[1;33m(\u001b[0m\u001b[0msrc\u001b[0m\u001b[1;33m,\u001b[0m \u001b[1;33m**\u001b[0m\u001b[0mkwds\u001b[0m\u001b[1;33m)\u001b[0m\u001b[1;33m\u001b[0m\u001b[1;33m\u001b[0m\u001b[0m\n\u001b[0m\u001b[0;32m   2009\u001b[0m         \u001b[0mself\u001b[0m\u001b[1;33m.\u001b[0m\u001b[0munnamed_cols\u001b[0m \u001b[1;33m=\u001b[0m \u001b[0mself\u001b[0m\u001b[1;33m.\u001b[0m\u001b[0m_reader\u001b[0m\u001b[1;33m.\u001b[0m\u001b[0munnamed_cols\u001b[0m\u001b[1;33m\u001b[0m\u001b[1;33m\u001b[0m\u001b[0m\n\u001b[0;32m   2010\u001b[0m \u001b[1;33m\u001b[0m\u001b[0m\n",
      "\u001b[1;32mpandas\\_libs\\parsers.pyx\u001b[0m in \u001b[0;36mpandas._libs.parsers.TextReader.__cinit__\u001b[1;34m()\u001b[0m\n",
      "\u001b[1;32mpandas\\_libs\\parsers.pyx\u001b[0m in \u001b[0;36mpandas._libs.parsers.TextReader._setup_parser_source\u001b[1;34m()\u001b[0m\n",
      "\u001b[1;31mFileNotFoundError\u001b[0m: [Errno 2] No such file or directory: 'data/training_set_values.csv'"
     ]
    }
   ],
   "source": [
    "#load data\n",
    "training_set = pd.read_csv('data/training_set_values.csv' , index_col = 0)\n",
    "training_set.info()"
   ]
  },
  {
   "cell_type": "code",
   "execution_count": null,
   "metadata": {},
   "outputs": [
    {
     "data": {
      "text/html": [
       "<div>\n",
       "<style scoped>\n",
       "    .dataframe tbody tr th:only-of-type {\n",
       "        vertical-align: middle;\n",
       "    }\n",
       "\n",
       "    .dataframe tbody tr th {\n",
       "        vertical-align: top;\n",
       "    }\n",
       "\n",
       "    .dataframe thead th {\n",
       "        text-align: right;\n",
       "    }\n",
       "</style>\n",
       "<table border=\"1\" class=\"dataframe\">\n",
       "  <thead>\n",
       "    <tr style=\"text-align: right;\">\n",
       "      <th></th>\n",
       "      <th>amount_tsh</th>\n",
       "      <th>date_recorded</th>\n",
       "      <th>funder</th>\n",
       "      <th>gps_height</th>\n",
       "      <th>installer</th>\n",
       "      <th>longitude</th>\n",
       "      <th>latitude</th>\n",
       "      <th>wpt_name</th>\n",
       "      <th>num_private</th>\n",
       "      <th>basin</th>\n",
       "      <th>...</th>\n",
       "      <th>payment_type</th>\n",
       "      <th>water_quality</th>\n",
       "      <th>quality_group</th>\n",
       "      <th>quantity</th>\n",
       "      <th>quantity_group</th>\n",
       "      <th>source</th>\n",
       "      <th>source_type</th>\n",
       "      <th>source_class</th>\n",
       "      <th>waterpoint_type</th>\n",
       "      <th>waterpoint_type_group</th>\n",
       "    </tr>\n",
       "    <tr>\n",
       "      <th>id</th>\n",
       "      <th></th>\n",
       "      <th></th>\n",
       "      <th></th>\n",
       "      <th></th>\n",
       "      <th></th>\n",
       "      <th></th>\n",
       "      <th></th>\n",
       "      <th></th>\n",
       "      <th></th>\n",
       "      <th></th>\n",
       "      <th></th>\n",
       "      <th></th>\n",
       "      <th></th>\n",
       "      <th></th>\n",
       "      <th></th>\n",
       "      <th></th>\n",
       "      <th></th>\n",
       "      <th></th>\n",
       "      <th></th>\n",
       "      <th></th>\n",
       "      <th></th>\n",
       "    </tr>\n",
       "  </thead>\n",
       "  <tbody>\n",
       "    <tr>\n",
       "      <th>8105</th>\n",
       "      <td>0.0</td>\n",
       "      <td>2013-01-28</td>\n",
       "      <td>Ministry Of Water</td>\n",
       "      <td>883</td>\n",
       "      <td>Idara ya maji</td>\n",
       "      <td>35.217654</td>\n",
       "      <td>-6.348872e+00</td>\n",
       "      <td>Kwa Joseph Kawindi</td>\n",
       "      <td>0</td>\n",
       "      <td>Internal</td>\n",
       "      <td>...</td>\n",
       "      <td>never pay</td>\n",
       "      <td>soft</td>\n",
       "      <td>good</td>\n",
       "      <td>enough</td>\n",
       "      <td>enough</td>\n",
       "      <td>machine dbh</td>\n",
       "      <td>borehole</td>\n",
       "      <td>groundwater</td>\n",
       "      <td>communal standpipe multiple</td>\n",
       "      <td>communal standpipe</td>\n",
       "    </tr>\n",
       "    <tr>\n",
       "      <th>3699</th>\n",
       "      <td>0.0</td>\n",
       "      <td>2012-10-30</td>\n",
       "      <td>Tasaf</td>\n",
       "      <td>0</td>\n",
       "      <td>DWE</td>\n",
       "      <td>0.000000</td>\n",
       "      <td>-2.000000e-08</td>\n",
       "      <td>Igunabarui</td>\n",
       "      <td>0</td>\n",
       "      <td>Lake Victoria</td>\n",
       "      <td>...</td>\n",
       "      <td>other</td>\n",
       "      <td>soft</td>\n",
       "      <td>good</td>\n",
       "      <td>enough</td>\n",
       "      <td>enough</td>\n",
       "      <td>shallow well</td>\n",
       "      <td>shallow well</td>\n",
       "      <td>groundwater</td>\n",
       "      <td>hand pump</td>\n",
       "      <td>hand pump</td>\n",
       "    </tr>\n",
       "    <tr>\n",
       "      <th>25755</th>\n",
       "      <td>1200.0</td>\n",
       "      <td>2013-02-13</td>\n",
       "      <td>Mission</td>\n",
       "      <td>970</td>\n",
       "      <td>DWE</td>\n",
       "      <td>35.713785</td>\n",
       "      <td>-1.074698e+01</td>\n",
       "      <td>Kwa Salim</td>\n",
       "      <td>0</td>\n",
       "      <td>Ruvuma / Southern Coast</td>\n",
       "      <td>...</td>\n",
       "      <td>annually</td>\n",
       "      <td>soft</td>\n",
       "      <td>good</td>\n",
       "      <td>enough</td>\n",
       "      <td>enough</td>\n",
       "      <td>river</td>\n",
       "      <td>river/lake</td>\n",
       "      <td>surface</td>\n",
       "      <td>communal standpipe</td>\n",
       "      <td>communal standpipe</td>\n",
       "    </tr>\n",
       "    <tr>\n",
       "      <th>71039</th>\n",
       "      <td>0.0</td>\n",
       "      <td>2013-02-08</td>\n",
       "      <td>Amref</td>\n",
       "      <td>119</td>\n",
       "      <td>Amref</td>\n",
       "      <td>40.100895</td>\n",
       "      <td>-1.055629e+01</td>\n",
       "      <td>Shuleni</td>\n",
       "      <td>0</td>\n",
       "      <td>Ruvuma / Southern Coast</td>\n",
       "      <td>...</td>\n",
       "      <td>unknown</td>\n",
       "      <td>soft</td>\n",
       "      <td>good</td>\n",
       "      <td>insufficient</td>\n",
       "      <td>insufficient</td>\n",
       "      <td>machine dbh</td>\n",
       "      <td>borehole</td>\n",
       "      <td>groundwater</td>\n",
       "      <td>communal standpipe multiple</td>\n",
       "      <td>communal standpipe</td>\n",
       "    </tr>\n",
       "    <tr>\n",
       "      <th>61838</th>\n",
       "      <td>0.0</td>\n",
       "      <td>2011-03-19</td>\n",
       "      <td>Amref</td>\n",
       "      <td>-3</td>\n",
       "      <td>AMREF</td>\n",
       "      <td>39.198143</td>\n",
       "      <td>-7.437157e+00</td>\n",
       "      <td>Kwa Ng'Oma</td>\n",
       "      <td>0</td>\n",
       "      <td>Rufiji</td>\n",
       "      <td>...</td>\n",
       "      <td>never pay</td>\n",
       "      <td>soft</td>\n",
       "      <td>good</td>\n",
       "      <td>enough</td>\n",
       "      <td>enough</td>\n",
       "      <td>hand dtw</td>\n",
       "      <td>borehole</td>\n",
       "      <td>groundwater</td>\n",
       "      <td>hand pump</td>\n",
       "      <td>hand pump</td>\n",
       "    </tr>\n",
       "  </tbody>\n",
       "</table>\n",
       "<p>5 rows × 39 columns</p>\n",
       "</div>"
      ],
      "text/plain": [
       "       amount_tsh date_recorded             funder  gps_height      installer  \\\n",
       "id                                                                              \n",
       "8105          0.0    2013-01-28  Ministry Of Water         883  Idara ya maji   \n",
       "3699          0.0    2012-10-30              Tasaf           0            DWE   \n",
       "25755      1200.0    2013-02-13            Mission         970            DWE   \n",
       "71039         0.0    2013-02-08              Amref         119          Amref   \n",
       "61838         0.0    2011-03-19              Amref          -3          AMREF   \n",
       "\n",
       "       longitude      latitude            wpt_name  num_private  \\\n",
       "id                                                                \n",
       "8105   35.217654 -6.348872e+00  Kwa Joseph Kawindi            0   \n",
       "3699    0.000000 -2.000000e-08          Igunabarui            0   \n",
       "25755  35.713785 -1.074698e+01           Kwa Salim            0   \n",
       "71039  40.100895 -1.055629e+01             Shuleni            0   \n",
       "61838  39.198143 -7.437157e+00          Kwa Ng'Oma            0   \n",
       "\n",
       "                         basin  ... payment_type water_quality  quality_group  \\\n",
       "id                              ...                                             \n",
       "8105                  Internal  ...    never pay          soft           good   \n",
       "3699             Lake Victoria  ...        other          soft           good   \n",
       "25755  Ruvuma / Southern Coast  ...     annually          soft           good   \n",
       "71039  Ruvuma / Southern Coast  ...      unknown          soft           good   \n",
       "61838                   Rufiji  ...    never pay          soft           good   \n",
       "\n",
       "           quantity quantity_group        source   source_type source_class  \\\n",
       "id                                                                            \n",
       "8105         enough         enough   machine dbh      borehole  groundwater   \n",
       "3699         enough         enough  shallow well  shallow well  groundwater   \n",
       "25755        enough         enough         river    river/lake      surface   \n",
       "71039  insufficient   insufficient   machine dbh      borehole  groundwater   \n",
       "61838        enough         enough      hand dtw      borehole  groundwater   \n",
       "\n",
       "                   waterpoint_type waterpoint_type_group  \n",
       "id                                                        \n",
       "8105   communal standpipe multiple    communal standpipe  \n",
       "3699                     hand pump             hand pump  \n",
       "25755           communal standpipe    communal standpipe  \n",
       "71039  communal standpipe multiple    communal standpipe  \n",
       "61838                    hand pump             hand pump  \n",
       "\n",
       "[5 rows x 39 columns]"
      ]
     },
     "execution_count": 213,
     "metadata": {},
     "output_type": "execute_result"
    }
   ],
   "source": [
    "training_set.sample(5)"
   ]
  },
  {
   "cell_type": "code",
   "execution_count": null,
   "metadata": {},
   "outputs": [
    {
     "data": {
      "text/plain": [
       "(59400, 39)"
      ]
     },
     "execution_count": 214,
     "metadata": {},
     "output_type": "execute_result"
    }
   ],
   "source": [
    "training_set.shape"
   ]
  },
  {
   "cell_type": "code",
   "execution_count": null,
   "metadata": {},
   "outputs": [
    {
     "data": {
      "text/html": [
       "<div>\n",
       "<style scoped>\n",
       "    .dataframe tbody tr th:only-of-type {\n",
       "        vertical-align: middle;\n",
       "    }\n",
       "\n",
       "    .dataframe tbody tr th {\n",
       "        vertical-align: top;\n",
       "    }\n",
       "\n",
       "    .dataframe thead th {\n",
       "        text-align: right;\n",
       "    }\n",
       "</style>\n",
       "<table border=\"1\" class=\"dataframe\">\n",
       "  <thead>\n",
       "    <tr style=\"text-align: right;\">\n",
       "      <th></th>\n",
       "      <th>status_group</th>\n",
       "    </tr>\n",
       "    <tr>\n",
       "      <th>id</th>\n",
       "      <th></th>\n",
       "    </tr>\n",
       "  </thead>\n",
       "  <tbody>\n",
       "    <tr>\n",
       "      <th>69572</th>\n",
       "      <td>functional</td>\n",
       "    </tr>\n",
       "    <tr>\n",
       "      <th>8776</th>\n",
       "      <td>functional</td>\n",
       "    </tr>\n",
       "    <tr>\n",
       "      <th>34310</th>\n",
       "      <td>functional</td>\n",
       "    </tr>\n",
       "    <tr>\n",
       "      <th>67743</th>\n",
       "      <td>non functional</td>\n",
       "    </tr>\n",
       "    <tr>\n",
       "      <th>19728</th>\n",
       "      <td>functional</td>\n",
       "    </tr>\n",
       "  </tbody>\n",
       "</table>\n",
       "</div>"
      ],
      "text/plain": [
       "         status_group\n",
       "id                   \n",
       "69572      functional\n",
       "8776       functional\n",
       "34310      functional\n",
       "67743  non functional\n",
       "19728      functional"
      ]
     },
     "execution_count": 215,
     "metadata": {},
     "output_type": "execute_result"
    }
   ],
   "source": [
    "labels = pd.read_csv('data/training_set_labels.csv' , index_col= 0)\n",
    "labels.head()"
   ]
  },
  {
   "cell_type": "code",
   "execution_count": null,
   "metadata": {},
   "outputs": [
    {
     "data": {
      "text/html": [
       "<div>\n",
       "<style scoped>\n",
       "    .dataframe tbody tr th:only-of-type {\n",
       "        vertical-align: middle;\n",
       "    }\n",
       "\n",
       "    .dataframe tbody tr th {\n",
       "        vertical-align: top;\n",
       "    }\n",
       "\n",
       "    .dataframe thead th {\n",
       "        text-align: right;\n",
       "    }\n",
       "</style>\n",
       "<table border=\"1\" class=\"dataframe\">\n",
       "  <thead>\n",
       "    <tr style=\"text-align: right;\">\n",
       "      <th></th>\n",
       "      <th>id</th>\n",
       "      <th>status_group</th>\n",
       "      <th>amount_tsh</th>\n",
       "      <th>date_recorded</th>\n",
       "      <th>funder</th>\n",
       "      <th>gps_height</th>\n",
       "      <th>installer</th>\n",
       "      <th>longitude</th>\n",
       "      <th>latitude</th>\n",
       "      <th>wpt_name</th>\n",
       "      <th>...</th>\n",
       "      <th>payment_type</th>\n",
       "      <th>water_quality</th>\n",
       "      <th>quality_group</th>\n",
       "      <th>quantity</th>\n",
       "      <th>quantity_group</th>\n",
       "      <th>source</th>\n",
       "      <th>source_type</th>\n",
       "      <th>source_class</th>\n",
       "      <th>waterpoint_type</th>\n",
       "      <th>waterpoint_type_group</th>\n",
       "    </tr>\n",
       "  </thead>\n",
       "  <tbody>\n",
       "    <tr>\n",
       "      <th>39865</th>\n",
       "      <td>67666</td>\n",
       "      <td>functional</td>\n",
       "      <td>200.0</td>\n",
       "      <td>2013-02-14</td>\n",
       "      <td>Danida</td>\n",
       "      <td>462</td>\n",
       "      <td>DANIDA</td>\n",
       "      <td>34.718048</td>\n",
       "      <td>-11.177794</td>\n",
       "      <td>Kwa Mzee Kapinga</td>\n",
       "      <td>...</td>\n",
       "      <td>monthly</td>\n",
       "      <td>soft</td>\n",
       "      <td>good</td>\n",
       "      <td>enough</td>\n",
       "      <td>enough</td>\n",
       "      <td>spring</td>\n",
       "      <td>spring</td>\n",
       "      <td>groundwater</td>\n",
       "      <td>communal standpipe</td>\n",
       "      <td>communal standpipe</td>\n",
       "    </tr>\n",
       "    <tr>\n",
       "      <th>2857</th>\n",
       "      <td>20693</td>\n",
       "      <td>functional</td>\n",
       "      <td>14000.0</td>\n",
       "      <td>2011-02-28</td>\n",
       "      <td>Water User As</td>\n",
       "      <td>280</td>\n",
       "      <td>Wa</td>\n",
       "      <td>38.381334</td>\n",
       "      <td>-6.314469</td>\n",
       "      <td>Kihangaiko Primary School</td>\n",
       "      <td>...</td>\n",
       "      <td>monthly</td>\n",
       "      <td>soft</td>\n",
       "      <td>good</td>\n",
       "      <td>enough</td>\n",
       "      <td>enough</td>\n",
       "      <td>river</td>\n",
       "      <td>river/lake</td>\n",
       "      <td>surface</td>\n",
       "      <td>communal standpipe</td>\n",
       "      <td>communal standpipe</td>\n",
       "    </tr>\n",
       "    <tr>\n",
       "      <th>42823</th>\n",
       "      <td>37737</td>\n",
       "      <td>functional</td>\n",
       "      <td>0.0</td>\n",
       "      <td>2013-02-25</td>\n",
       "      <td>Netherlands</td>\n",
       "      <td>0</td>\n",
       "      <td>DWE</td>\n",
       "      <td>33.996509</td>\n",
       "      <td>-3.119086</td>\n",
       "      <td>Muungano</td>\n",
       "      <td>...</td>\n",
       "      <td>other</td>\n",
       "      <td>soft</td>\n",
       "      <td>good</td>\n",
       "      <td>insufficient</td>\n",
       "      <td>insufficient</td>\n",
       "      <td>shallow well</td>\n",
       "      <td>shallow well</td>\n",
       "      <td>groundwater</td>\n",
       "      <td>hand pump</td>\n",
       "      <td>hand pump</td>\n",
       "    </tr>\n",
       "    <tr>\n",
       "      <th>55236</th>\n",
       "      <td>63332</td>\n",
       "      <td>non functional</td>\n",
       "      <td>0.0</td>\n",
       "      <td>2011-03-30</td>\n",
       "      <td>Water</td>\n",
       "      <td>0</td>\n",
       "      <td>Commu</td>\n",
       "      <td>35.610877</td>\n",
       "      <td>-6.119913</td>\n",
       "      <td>Kwa Raphael</td>\n",
       "      <td>...</td>\n",
       "      <td>per bucket</td>\n",
       "      <td>soft</td>\n",
       "      <td>good</td>\n",
       "      <td>dry</td>\n",
       "      <td>dry</td>\n",
       "      <td>machine dbh</td>\n",
       "      <td>borehole</td>\n",
       "      <td>groundwater</td>\n",
       "      <td>communal standpipe multiple</td>\n",
       "      <td>communal standpipe</td>\n",
       "    </tr>\n",
       "    <tr>\n",
       "      <th>51987</th>\n",
       "      <td>20749</td>\n",
       "      <td>non functional</td>\n",
       "      <td>0.0</td>\n",
       "      <td>2011-07-15</td>\n",
       "      <td>Government Of Tanzania</td>\n",
       "      <td>1133</td>\n",
       "      <td>DWE</td>\n",
       "      <td>31.235733</td>\n",
       "      <td>-6.376084</td>\n",
       "      <td>Kwa Joseph Jalukolola</td>\n",
       "      <td>...</td>\n",
       "      <td>never pay</td>\n",
       "      <td>soft</td>\n",
       "      <td>good</td>\n",
       "      <td>enough</td>\n",
       "      <td>enough</td>\n",
       "      <td>spring</td>\n",
       "      <td>spring</td>\n",
       "      <td>groundwater</td>\n",
       "      <td>communal standpipe</td>\n",
       "      <td>communal standpipe</td>\n",
       "    </tr>\n",
       "  </tbody>\n",
       "</table>\n",
       "<p>5 rows × 41 columns</p>\n",
       "</div>"
      ],
      "text/plain": [
       "          id    status_group  amount_tsh date_recorded  \\\n",
       "39865  67666      functional       200.0    2013-02-14   \n",
       "2857   20693      functional     14000.0    2011-02-28   \n",
       "42823  37737      functional         0.0    2013-02-25   \n",
       "55236  63332  non functional         0.0    2011-03-30   \n",
       "51987  20749  non functional         0.0    2011-07-15   \n",
       "\n",
       "                       funder  gps_height installer  longitude   latitude  \\\n",
       "39865                  Danida         462    DANIDA  34.718048 -11.177794   \n",
       "2857            Water User As         280        Wa  38.381334  -6.314469   \n",
       "42823             Netherlands           0       DWE  33.996509  -3.119086   \n",
       "55236                   Water           0     Commu  35.610877  -6.119913   \n",
       "51987  Government Of Tanzania        1133       DWE  31.235733  -6.376084   \n",
       "\n",
       "                        wpt_name  ...  payment_type water_quality  \\\n",
       "39865           Kwa Mzee Kapinga  ...       monthly          soft   \n",
       "2857   Kihangaiko Primary School  ...       monthly          soft   \n",
       "42823                   Muungano  ...         other          soft   \n",
       "55236                Kwa Raphael  ...    per bucket          soft   \n",
       "51987      Kwa Joseph Jalukolola  ...     never pay          soft   \n",
       "\n",
       "      quality_group      quantity  quantity_group        source   source_type  \\\n",
       "39865          good        enough          enough        spring        spring   \n",
       "2857           good        enough          enough         river    river/lake   \n",
       "42823          good  insufficient    insufficient  shallow well  shallow well   \n",
       "55236          good           dry             dry   machine dbh      borehole   \n",
       "51987          good        enough          enough        spring        spring   \n",
       "\n",
       "      source_class              waterpoint_type waterpoint_type_group  \n",
       "39865  groundwater           communal standpipe    communal standpipe  \n",
       "2857       surface           communal standpipe    communal standpipe  \n",
       "42823  groundwater                    hand pump             hand pump  \n",
       "55236  groundwater  communal standpipe multiple    communal standpipe  \n",
       "51987  groundwater           communal standpipe    communal standpipe  \n",
       "\n",
       "[5 rows x 41 columns]"
      ]
     },
     "execution_count": 216,
     "metadata": {},
     "output_type": "execute_result"
    }
   ],
   "source": [
    "#join training set and the training set labels\n",
    "training_set_data = labels.merge(training_set, on = 'id').reset_index()\n",
    "training_set_data.sample(5)"
   ]
  },
  {
   "cell_type": "code",
   "execution_count": null,
   "metadata": {},
   "outputs": [
    {
     "data": {
      "text/plain": [
       "scheme_name              47.417508\n",
       "scheme_management         6.526936\n",
       "installer                 6.153199\n",
       "funder                    6.119529\n",
       "public_meeting            5.612795\n",
       "permit                    5.144781\n",
       "subvillage                0.624579\n",
       "basin                     0.000000\n",
       "lga                       0.000000\n",
       "district_code             0.000000\n",
       "region_code               0.000000\n",
       "region                    0.000000\n",
       "waterpoint_type_group     0.000000\n",
       "ward                      0.000000\n",
       "wpt_name                  0.000000\n",
       "latitude                  0.000000\n",
       "longitude                 0.000000\n",
       "gps_height                0.000000\n",
       "date_recorded             0.000000\n",
       "amount_tsh                0.000000\n",
       "status_group              0.000000\n",
       "num_private               0.000000\n",
       "recorded_by               0.000000\n",
       "population                0.000000\n",
       "waterpoint_type           0.000000\n",
       "source_class              0.000000\n",
       "source_type               0.000000\n",
       "source                    0.000000\n",
       "quantity_group            0.000000\n",
       "quantity                  0.000000\n",
       "quality_group             0.000000\n",
       "water_quality             0.000000\n",
       "payment_type              0.000000\n",
       "payment                   0.000000\n",
       "management_group          0.000000\n",
       "management                0.000000\n",
       "extraction_type_class     0.000000\n",
       "extraction_type_group     0.000000\n",
       "extraction_type           0.000000\n",
       "construction_year         0.000000\n",
       "id                        0.000000\n",
       "dtype: float64"
      ]
     },
     "execution_count": 217,
     "metadata": {},
     "output_type": "execute_result"
    }
   ],
   "source": [
    "# look for null values\n",
    "(training_set_data.isna().sum() / len(training_set_data) * 100).sort_values(ascending=False)\n"
   ]
  },
  {
   "cell_type": "markdown",
   "metadata": {},
   "source": [
    "### EDA AND DATA CLEANING"
   ]
  },
  {
   "cell_type": "code",
   "execution_count": null,
   "metadata": {},
   "outputs": [],
   "source": [
    "#  In this particular analysis the scheme_name and scheme_management is not important so we will drop it\n",
    "training_set_data.drop(columns=[ 'scheme_name' , 'scheme_management'], inplace= True)"
   ]
  },
  {
   "cell_type": "code",
   "execution_count": null,
   "metadata": {},
   "outputs": [
    {
     "data": {
      "text/plain": [
       "(3334,\n",
       " True     51011\n",
       " False     5055\n",
       " Name: public_meeting, dtype: int64)"
      ]
     },
     "execution_count": 219,
     "metadata": {},
     "output_type": "execute_result"
    }
   ],
   "source": [
    "# Close look at the public_meeting column\n",
    "missing_values = training_set_data['public_meeting'].isna().sum()\n",
    "unique_values = training_set_data['public_meeting'].value_counts()\n",
    "missing_values, unique_values"
   ]
  },
  {
   "cell_type": "code",
   "execution_count": null,
   "metadata": {},
   "outputs": [
    {
     "data": {
      "text/plain": [
       "(0,\n",
       " True       51011\n",
       " False       5055\n",
       " unknown     3334\n",
       " Name: public_meeting, dtype: int64)"
      ]
     },
     "execution_count": 220,
     "metadata": {},
     "output_type": "execute_result"
    }
   ],
   "source": [
    "\"\"\"Because the public meeting column might be important, we will replace the null values with an 'unknown' placeholder because there is\n",
    "no way to know whether the place was a public meeting place or not\"\"\"\n",
    "\n",
    "training_set_data['public_meeting'].fillna('unknown' , inplace = True)\n",
    "null = training_set_data['public_meeting'].isna().sum() \n",
    "counts = training_set_data.public_meeting.value_counts()\n",
    "\n",
    "null, counts"
   ]
  },
  {
   "cell_type": "markdown",
   "metadata": {},
   "source": [
    "<span style=\"color: maroon\">Fill installer null values</span>"
   ]
  },
  {
   "cell_type": "code",
   "execution_count": null,
   "metadata": {},
   "outputs": [
    {
     "data": {
      "text/plain": [
       "(3655,\n",
       " False,\n",
       " DWE              17402\n",
       " Government        1825\n",
       " RWE               1206\n",
       " Commu             1060\n",
       " DANIDA            1050\n",
       "                  ...  \n",
       " UAACC                1\n",
       " Kuweit               1\n",
       " HAAM                 1\n",
       " CHANDE CO            1\n",
       " Prof. Saluati        1\n",
       " Name: installer, Length: 2145, dtype: int64)"
      ]
     },
     "execution_count": 221,
     "metadata": {},
     "output_type": "execute_result"
    }
   ],
   "source": [
    "# lets take a closer look at the installer feature\n",
    "training_set_data['installer'] = training_set_data['installer'].str.strip()\n",
    "null_values = training_set_data.installer.isna().sum()\n",
    "count = training_set_data.installer.value_counts()\n",
    "nun = (training_set_data['installer'] == 0).any()\n",
    "null_values , nun , count "
   ]
  },
  {
   "cell_type": "code",
   "execution_count": null,
   "metadata": {},
   "outputs": [
    {
     "data": {
      "text/html": [
       "<div>\n",
       "<style scoped>\n",
       "    .dataframe tbody tr th:only-of-type {\n",
       "        vertical-align: middle;\n",
       "    }\n",
       "\n",
       "    .dataframe tbody tr th {\n",
       "        vertical-align: top;\n",
       "    }\n",
       "\n",
       "    .dataframe thead th {\n",
       "        text-align: right;\n",
       "    }\n",
       "</style>\n",
       "<table border=\"1\" class=\"dataframe\">\n",
       "  <thead>\n",
       "    <tr style=\"text-align: right;\">\n",
       "      <th></th>\n",
       "      <th>installer</th>\n",
       "      <th>region</th>\n",
       "      <th>region_count</th>\n",
       "    </tr>\n",
       "  </thead>\n",
       "  <tbody>\n",
       "    <tr>\n",
       "      <th>0</th>\n",
       "      <td>Kilolo Star</td>\n",
       "      <td>Lindi</td>\n",
       "      <td>1</td>\n",
       "    </tr>\n",
       "    <tr>\n",
       "      <th>1</th>\n",
       "      <td>World vision</td>\n",
       "      <td>Manyara</td>\n",
       "      <td>1</td>\n",
       "    </tr>\n",
       "    <tr>\n",
       "      <th>2</th>\n",
       "      <td>UNICEF</td>\n",
       "      <td>Mtwara</td>\n",
       "      <td>1</td>\n",
       "    </tr>\n",
       "  </tbody>\n",
       "</table>\n",
       "</div>"
      ],
      "text/plain": [
       "      installer   region  region_count\n",
       "0   Kilolo Star    Lindi             1\n",
       "1  World vision  Manyara             1\n",
       "2        UNICEF   Mtwara             1"
      ]
     },
     "execution_count": 222,
     "metadata": {},
     "output_type": "execute_result"
    }
   ],
   "source": [
    "\"\"\"The query is conditioned to show installers from the specified regions. The output is an indication that installers could have been specified\n",
    "to a particular region. We could use the installers in similar regions to fill in the null values in our installer feature\"\"\"\n",
    "from pandasql import sqldf\n",
    "\n",
    "query1 = \"\"\"SELECT installer , region, COUNT(DISTINCT region) AS region_count \n",
    "            FROM training_set_data\n",
    "            WHERE region IN ( 'Lindi' , 'Manyara' , 'Mtwara')\n",
    "            GROUP BY region\"\"\"\n",
    "pysqldf = sqldf(query1)\n",
    "result = pysqldf\n",
    "result"
   ]
  },
  {
   "cell_type": "code",
   "execution_count": null,
   "metadata": {},
   "outputs": [],
   "source": [
    "\"\"\"fill missing values in the 'installer' column with the mode installer of similar regions\"\"\"\n",
    "\n",
    "# import  library\n",
    "from sklearn.preprocessing import LabelEncoder\n",
    "\n",
    "# Initialize LabelEncoder\n",
    "label_encoder = LabelEncoder()\n",
    "\n",
    "# encode region column\n",
    "training_set_data['region_encoded'] = label_encoder.fit_transform(training_set_data['region'])\n",
    "\n",
    "column = 'installer'\n",
    "\n",
    "# Find  mode installer in encoded region\n",
    "reference = training_set_data.groupby('region_encoded')[column].transform(lambda x: x.mode().iloc[0])\n",
    "\n",
    "# Fill missing installer values with mode installers from similar regions\n",
    "training_set_data[column] = training_set_data[column].fillna(reference)"
   ]
  },
  {
   "cell_type": "code",
   "execution_count": null,
   "metadata": {},
   "outputs": [],
   "source": [
    "# revert to categorical data\n",
    "region = label_encoder.inverse_transform(training_set_data['region_encoded'])\n",
    "\n",
    "training_set_data['region'] = region"
   ]
  },
  {
   "cell_type": "code",
   "execution_count": null,
   "metadata": {},
   "outputs": [
    {
     "data": {
      "text/plain": [
       "0"
      ]
     },
     "execution_count": 225,
     "metadata": {},
     "output_type": "execute_result"
    }
   ],
   "source": [
    "# Assert filling\n",
    "training_set_data.installer.isna().sum()"
   ]
  },
  {
   "cell_type": "markdown",
   "metadata": {},
   "source": [
    "Fill null funder values"
   ]
  },
  {
   "cell_type": "code",
   "execution_count": null,
   "metadata": {},
   "outputs": [
    {
     "data": {
      "text/plain": [
       "(3635,\n",
       " Government Of Tanzania    9084\n",
       " Danida                    3114\n",
       " Hesawa                    2202\n",
       " Rwssp                     1374\n",
       " World Bank                1349\n",
       "                           ... \n",
       " Ngo                          1\n",
       " Heri Mission                 1\n",
       " Ccpk                         1\n",
       " Paulo Sange                  1\n",
       " Tasf                         1\n",
       " Name: funder, Length: 1897, dtype: int64,\n",
       " False)"
      ]
     },
     "execution_count": 226,
     "metadata": {},
     "output_type": "execute_result"
    }
   ],
   "source": [
    "#lets have a closer look at the funder column\n",
    "training_set_data['funder'].str.strip() # strip special characters\n",
    "\n",
    "funder_count = training_set_data['funder'].value_counts() # value count\n",
    "\n",
    "funder_missing = training_set_data['funder'].isna().sum() # null values\n",
    "\n",
    "funder_nun = (training_set_data['funder'] == 0).any() # 0 to represent a null value\n",
    "\n",
    "funder_missing,funder_count,funder_nun\n"
   ]
  },
  {
   "cell_type": "code",
   "execution_count": null,
   "metadata": {},
   "outputs": [
    {
     "data": {
      "text/plain": [
       "Iringa           5294\n",
       "Shinyanga        4982\n",
       "Mbeya            4639\n",
       "Kilimanjaro      4379\n",
       "Morogoro         4006\n",
       "Arusha           3350\n",
       "Kagera           3316\n",
       "Mwanza           3102\n",
       "Kigoma           2816\n",
       "Ruvuma           2640\n",
       "Pwani            2635\n",
       "Tanga            2547\n",
       "Dodoma           2201\n",
       "Singida          2093\n",
       "Mara             1969\n",
       "Tabora           1959\n",
       "Rukwa            1808\n",
       "Mtwara           1730\n",
       "Manyara          1583\n",
       "Lindi            1546\n",
       "Dar es Salaam     805\n",
       "Name: region, dtype: int64"
      ]
     },
     "execution_count": 227,
     "metadata": {},
     "output_type": "execute_result"
    }
   ],
   "source": [
    "training_set_data.region.value_counts()"
   ]
  },
  {
   "cell_type": "code",
   "execution_count": null,
   "metadata": {},
   "outputs": [
    {
     "data": {
      "text/html": [
       "<div>\n",
       "<style scoped>\n",
       "    .dataframe tbody tr th:only-of-type {\n",
       "        vertical-align: middle;\n",
       "    }\n",
       "\n",
       "    .dataframe tbody tr th {\n",
       "        vertical-align: top;\n",
       "    }\n",
       "\n",
       "    .dataframe thead th {\n",
       "        text-align: right;\n",
       "    }\n",
       "</style>\n",
       "<table border=\"1\" class=\"dataframe\">\n",
       "  <thead>\n",
       "    <tr style=\"text-align: right;\">\n",
       "      <th></th>\n",
       "      <th>funder</th>\n",
       "      <th>region</th>\n",
       "      <th>funder_count</th>\n",
       "    </tr>\n",
       "  </thead>\n",
       "  <tbody>\n",
       "    <tr>\n",
       "      <th>0</th>\n",
       "      <td>Not Known</td>\n",
       "      <td>Arusha</td>\n",
       "      <td>174</td>\n",
       "    </tr>\n",
       "    <tr>\n",
       "      <th>1</th>\n",
       "      <td>0</td>\n",
       "      <td>Dar es Salaam</td>\n",
       "      <td>1</td>\n",
       "    </tr>\n",
       "    <tr>\n",
       "      <th>2</th>\n",
       "      <td>Water</td>\n",
       "      <td>Dodoma</td>\n",
       "      <td>78</td>\n",
       "    </tr>\n",
       "    <tr>\n",
       "      <th>3</th>\n",
       "      <td>Roman</td>\n",
       "      <td>Iringa</td>\n",
       "      <td>131</td>\n",
       "    </tr>\n",
       "    <tr>\n",
       "      <th>4</th>\n",
       "      <td>Action In A</td>\n",
       "      <td>Kagera</td>\n",
       "      <td>122</td>\n",
       "    </tr>\n",
       "    <tr>\n",
       "      <th>5</th>\n",
       "      <td>African Development Bank</td>\n",
       "      <td>Kigoma</td>\n",
       "      <td>114</td>\n",
       "    </tr>\n",
       "    <tr>\n",
       "      <th>6</th>\n",
       "      <td>Lawatefuka Water Supply</td>\n",
       "      <td>Kilimanjaro</td>\n",
       "      <td>134</td>\n",
       "    </tr>\n",
       "    <tr>\n",
       "      <th>7</th>\n",
       "      <td>Sobodo</td>\n",
       "      <td>Lindi</td>\n",
       "      <td>71</td>\n",
       "    </tr>\n",
       "    <tr>\n",
       "      <th>8</th>\n",
       "      <td>Lottery Club</td>\n",
       "      <td>Manyara</td>\n",
       "      <td>113</td>\n",
       "    </tr>\n",
       "    <tr>\n",
       "      <th>9</th>\n",
       "      <td>Grumeti</td>\n",
       "      <td>Mara</td>\n",
       "      <td>238</td>\n",
       "    </tr>\n",
       "    <tr>\n",
       "      <th>10</th>\n",
       "      <td>Danida</td>\n",
       "      <td>Mbeya</td>\n",
       "      <td>60</td>\n",
       "    </tr>\n",
       "    <tr>\n",
       "      <th>11</th>\n",
       "      <td>Government Of Tanzania</td>\n",
       "      <td>Morogoro</td>\n",
       "      <td>153</td>\n",
       "    </tr>\n",
       "    <tr>\n",
       "      <th>12</th>\n",
       "      <td>Unicef</td>\n",
       "      <td>Mtwara</td>\n",
       "      <td>88</td>\n",
       "    </tr>\n",
       "    <tr>\n",
       "      <th>13</th>\n",
       "      <td>Hesawa</td>\n",
       "      <td>Mwanza</td>\n",
       "      <td>183</td>\n",
       "    </tr>\n",
       "    <tr>\n",
       "      <th>14</th>\n",
       "      <td>Private</td>\n",
       "      <td>Pwani</td>\n",
       "      <td>182</td>\n",
       "    </tr>\n",
       "    <tr>\n",
       "      <th>15</th>\n",
       "      <td>Rudep</td>\n",
       "      <td>Rukwa</td>\n",
       "      <td>73</td>\n",
       "    </tr>\n",
       "    <tr>\n",
       "      <th>16</th>\n",
       "      <td>Danida</td>\n",
       "      <td>Ruvuma</td>\n",
       "      <td>69</td>\n",
       "    </tr>\n",
       "    <tr>\n",
       "      <th>17</th>\n",
       "      <td>Dwsp</td>\n",
       "      <td>Shinyanga</td>\n",
       "      <td>161</td>\n",
       "    </tr>\n",
       "    <tr>\n",
       "      <th>18</th>\n",
       "      <td>None</td>\n",
       "      <td>Singida</td>\n",
       "      <td>63</td>\n",
       "    </tr>\n",
       "    <tr>\n",
       "      <th>19</th>\n",
       "      <td>Wateraid</td>\n",
       "      <td>Tabora</td>\n",
       "      <td>122</td>\n",
       "    </tr>\n",
       "    <tr>\n",
       "      <th>20</th>\n",
       "      <td>Mkinga Distric Coun</td>\n",
       "      <td>Tanga</td>\n",
       "      <td>176</td>\n",
       "    </tr>\n",
       "  </tbody>\n",
       "</table>\n",
       "</div>"
      ],
      "text/plain": [
       "                      funder         region  funder_count\n",
       "0                  Not Known         Arusha           174\n",
       "1                          0  Dar es Salaam             1\n",
       "2                      Water         Dodoma            78\n",
       "3                      Roman         Iringa           131\n",
       "4                Action In A         Kagera           122\n",
       "5   African Development Bank         Kigoma           114\n",
       "6    Lawatefuka Water Supply    Kilimanjaro           134\n",
       "7                     Sobodo          Lindi            71\n",
       "8               Lottery Club        Manyara           113\n",
       "9                    Grumeti           Mara           238\n",
       "10                    Danida          Mbeya            60\n",
       "11    Government Of Tanzania       Morogoro           153\n",
       "12                    Unicef         Mtwara            88\n",
       "13                    Hesawa         Mwanza           183\n",
       "14                   Private          Pwani           182\n",
       "15                     Rudep          Rukwa            73\n",
       "16                    Danida         Ruvuma            69\n",
       "17                      Dwsp      Shinyanga           161\n",
       "18                      None        Singida            63\n",
       "19                  Wateraid         Tabora           122\n",
       "20       Mkinga Distric Coun          Tanga           176"
      ]
     },
     "execution_count": 228,
     "metadata": {},
     "output_type": "execute_result"
    }
   ],
   "source": [
    "query2 = \"\"\"SELECT funder , region , COUNT(DISTINCT funder) AS funder_count FROM training_set_data\n",
    "            GROUP BY region\"\"\"\n",
    "pysqldf = sqldf(query2)\n",
    "result = pysqldf\n",
    "result"
   ]
  },
  {
   "cell_type": "code",
   "execution_count": null,
   "metadata": {},
   "outputs": [
    {
     "data": {
      "text/plain": [
       "array(['Dar es Salaam'], dtype=object)"
      ]
     },
     "execution_count": 229,
     "metadata": {},
     "output_type": "execute_result"
    }
   ],
   "source": [
    "# Check if there is another region that has 0 as a funder\n",
    "zero_funder = training_set_data.loc[training_set_data['funder'] == '0']\n",
    "zero_regions = zero_funder['region'].unique()\n",
    "zero_regions\n"
   ]
  },
  {
   "cell_type": "code",
   "execution_count": null,
   "metadata": {},
   "outputs": [],
   "source": [
    "\"\"\"replace '0' with an unknown placeholder. This is because 0 could stand for no funder or there was a funder, but they were not recorded ,\n",
    "so unknown is a good stand-in for both\"\"\"\n",
    "\n",
    "training_set_data.replace('0' , 'unknown' , inplace = True)"
   ]
  },
  {
   "cell_type": "code",
   "execution_count": null,
   "metadata": {},
   "outputs": [
    {
     "data": {
      "text/plain": [
       "array([], dtype=object)"
      ]
     },
     "execution_count": 231,
     "metadata": {},
     "output_type": "execute_result"
    }
   ],
   "source": [
    "# assert replacement\n",
    "zero_funder = training_set_data.loc[training_set_data['funder'] == '0']\n",
    "zero_regions = zero_funder['region'].unique()\n",
    "zero_regions\n"
   ]
  },
  {
   "cell_type": "code",
   "execution_count": null,
   "metadata": {},
   "outputs": [],
   "source": [
    "# check correlation between funder and region\n",
    "import scipy.stats as stats\n",
    "\n",
    "table = pd.crosstab(training_set_data['funder'], training_set_data['region'])\n",
    "\n",
    "# Perform a chi-squared test\n",
    "chi2, p, _, _ = stats.chi2_contingency(table)\n",
    "\n",
    "# Check the p-value\n",
    "if p < 0.05:\n",
    "    print(\"Association\")\n",
    "else:\n",
    "    print(\"No association.\")"
   ]
  },
  {
   "cell_type": "code",
   "execution_count": null,
   "metadata": {},
   "outputs": [],
   "source": [
    "\"\"\"From our test , there is statistically a correlation between the region and the funder choice, and the two are not independent.\n",
    "Therefore we will use the mode funder values from similar regions to fill the null values\"\"\"\n",
    "\n",
    "\n",
    "# Initialize LabelEncoder\n",
    "label_encoder = LabelEncoder()\n",
    "\n",
    "# encode region column\n",
    "training_set_data['region_encoded'] = label_encoder.fit_transform(training_set_data['region'])\n",
    "\n",
    "column= 'funder'\n",
    "\n",
    "# Find the mode funder in similar regions\n",
    "reference = training_set_data.groupby('region_encoded')[column].transform(lambda x: x.mode().iloc[0])\n",
    "\n",
    "# Fill null values in funder column with mode funder from similar regions\n",
    "training_set_data[column] = training_set_data[column].fillna(reference)"
   ]
  },
  {
   "cell_type": "code",
   "execution_count": null,
   "metadata": {},
   "outputs": [
    {
     "data": {
      "text/plain": [
       "0"
      ]
     },
     "execution_count": 234,
     "metadata": {},
     "output_type": "execute_result"
    }
   ],
   "source": [
    "# assert fillna\n",
    "training_set_data.funder.isna().sum()"
   ]
  },
  {
   "cell_type": "code",
   "execution_count": null,
   "metadata": {},
   "outputs": [],
   "source": [
    "# revert to categorical data\n",
    "region = label_encoder.inverse_transform(training_set_data['region_encoded'])\n",
    "\n",
    "training_set_data['region'] = region"
   ]
  },
  {
   "cell_type": "code",
   "execution_count": null,
   "metadata": {},
   "outputs": [
    {
     "data": {
      "text/plain": [
       "(3056,\n",
       " True     38852\n",
       " False    17492\n",
       " Name: permit, dtype: int64)"
      ]
     },
     "execution_count": 236,
     "metadata": {},
     "output_type": "execute_result"
    }
   ],
   "source": [
    "# closer look at the permit column\n",
    "count = training_set_data['permit'].value_counts() # value count\n",
    "\n",
    "null = training_set_data['permit'].isna().sum() # null values\n",
    "null , count\n"
   ]
  },
  {
   "cell_type": "code",
   "execution_count": null,
   "metadata": {},
   "outputs": [
    {
     "data": {
      "text/plain": [
       "False"
      ]
     },
     "execution_count": 237,
     "metadata": {},
     "output_type": "execute_result"
    }
   ],
   "source": [
    "\"\"\"filling the null permit values with unknown because our assumption is the null values could be either true or false.\n",
    " Its hard to impute the permit column using values from similar records\"\"\"\n",
    "\n",
    "training_set_data['permit'].fillna('unknown', inplace = True)\n",
    "\n",
    "#assert replacement\n",
    "training_set_data['permit'].isna().any()"
   ]
  },
  {
   "cell_type": "code",
   "execution_count": null,
   "metadata": {},
   "outputs": [
    {
     "data": {
      "text/plain": [
       "(False,\n",
       " 371,\n",
       " Madukani    508\n",
       " Shuleni     506\n",
       " Majengo     502\n",
       " Kati        373\n",
       " Mtakuja     262\n",
       "            ... \n",
       " Kwesimu       1\n",
       " Mwanono       1\n",
       " Muao          1\n",
       " Idumunku      1\n",
       " Samazi        1\n",
       " Name: subvillage, Length: 19287, dtype: int64)"
      ]
     },
     "execution_count": 238,
     "metadata": {},
     "output_type": "execute_result"
    }
   ],
   "source": [
    "# closer look at the sub_village column\n",
    "\n",
    "training_set_data['subvillage'].str.strip()\n",
    "\n",
    "subvillage_count = training_set_data.subvillage.value_counts() # value count\n",
    "\n",
    "subvillage_nan = (training_set_data.subvillage == 'nan').any() # null values that could be filled with nan\n",
    "\n",
    "subvillage_null= training_set_data['subvillage'].isna().sum() # null values\n",
    "\n",
    "subvillage_nan, subvillage_null, subvillage_count\n"
   ]
  },
  {
   "cell_type": "code",
   "execution_count": null,
   "metadata": {},
   "outputs": [],
   "source": [
    "# drop subvillage column as it wont be important in our analysis\n",
    "training_set_data.drop(columns = 'subvillage' , inplace = True)\n"
   ]
  },
  {
   "cell_type": "code",
   "execution_count": null,
   "metadata": {},
   "outputs": [
    {
     "data": {
      "text/plain": [
       "region_encoded           0.0\n",
       "wpt_name                 0.0\n",
       "ward                     0.0\n",
       "lga                      0.0\n",
       "district_code            0.0\n",
       "region_code              0.0\n",
       "region                   0.0\n",
       "basin                    0.0\n",
       "num_private              0.0\n",
       "latitude                 0.0\n",
       "public_meeting           0.0\n",
       "longitude                0.0\n",
       "installer                0.0\n",
       "gps_height               0.0\n",
       "funder                   0.0\n",
       "date_recorded            0.0\n",
       "amount_tsh               0.0\n",
       "status_group             0.0\n",
       "population               0.0\n",
       "recorded_by              0.0\n",
       "waterpoint_type_group    0.0\n",
       "water_quality            0.0\n",
       "waterpoint_type          0.0\n",
       "source_class             0.0\n",
       "source_type              0.0\n",
       "source                   0.0\n",
       "quantity_group           0.0\n",
       "quantity                 0.0\n",
       "quality_group            0.0\n",
       "payment_type             0.0\n",
       "permit                   0.0\n",
       "payment                  0.0\n",
       "management_group         0.0\n",
       "management               0.0\n",
       "extraction_type_class    0.0\n",
       "extraction_type_group    0.0\n",
       "extraction_type          0.0\n",
       "construction_year        0.0\n",
       "id                       0.0\n",
       "dtype: float64"
      ]
     },
     "execution_count": 240,
     "metadata": {},
     "output_type": "execute_result"
    }
   ],
   "source": [
    "# Assert that there are no more null values\n",
    "(training_set_data.isna().sum() / len(training_set_data) * 100).sort_values(ascending=False)\n"
   ]
  },
  {
   "cell_type": "code",
   "execution_count": null,
   "metadata": {},
   "outputs": [
    {
     "data": {
      "text/plain": [
       "0       20709\n",
       "2010     2645\n",
       "2008     2613\n",
       "2009     2533\n",
       "2000     2091\n",
       "2007     1587\n",
       "2006     1471\n",
       "2003     1286\n",
       "2011     1256\n",
       "2004     1123\n",
       "2012     1084\n",
       "2002     1075\n",
       "1978     1037\n",
       "1995     1014\n",
       "2005     1011\n",
       "1999      979\n",
       "1998      966\n",
       "1990      954\n",
       "1985      945\n",
       "1980      811\n",
       "1996      811\n",
       "1984      779\n",
       "1982      744\n",
       "1994      738\n",
       "1972      708\n",
       "1974      676\n",
       "1997      644\n",
       "1992      640\n",
       "1993      608\n",
       "2001      540\n",
       "1988      521\n",
       "1983      488\n",
       "1975      437\n",
       "1986      434\n",
       "1976      414\n",
       "1970      411\n",
       "1991      324\n",
       "1989      316\n",
       "1987      302\n",
       "1981      238\n",
       "1977      202\n",
       "1979      192\n",
       "1973      184\n",
       "2013      176\n",
       "1971      145\n",
       "1960      102\n",
       "1967       88\n",
       "1963       85\n",
       "1968       77\n",
       "1969       59\n",
       "1964       40\n",
       "1962       30\n",
       "1961       21\n",
       "1965       19\n",
       "1966       17\n",
       "Name: construction_year, dtype: int64"
      ]
     },
     "execution_count": 241,
     "metadata": {},
     "output_type": "execute_result"
    }
   ],
   "source": [
    "training_set_data.construction_year.value_counts()"
   ]
  },
  {
   "cell_type": "code",
   "execution_count": null,
   "metadata": {},
   "outputs": [],
   "source": [
    "\"\"\"Construction year has a lot of 0 values. We will drop the construction year feature as its not important in our analysis\"\"\"\n",
    "# drop construction year column\n",
    "training_set_data.drop('construction_year' , axis = 1,  inplace= True) "
   ]
  },
  {
   "cell_type": "code",
   "execution_count": null,
   "metadata": {},
   "outputs": [
    {
     "name": "stdout",
     "output_type": "stream",
     "text": [
      "['id', 'amount_tsh', 'gps_height', 'longitude', 'num_private', 'district_code', 'population', 'public_meeting', 'permit', 'region_encoded']\n"
     ]
    }
   ],
   "source": [
    "# check for other columns that might have 0 as a row entry\n",
    "columns_with_zero_entries = []\n",
    "for column in training_set_data.columns:\n",
    "    if (training_set_data[column] == 0).any():\n",
    "        columns_with_zero_entries.append(column)\n",
    "\n",
    "print(columns_with_zero_entries)\n"
   ]
  },
  {
   "cell_type": "code",
   "execution_count": null,
   "metadata": {},
   "outputs": [
    {
     "data": {
      "text/plain": [
       "0.0         0.700993\n",
       "500.0       0.052222\n",
       "50.0        0.041616\n",
       "1000.0      0.025051\n",
       "20.0        0.024630\n",
       "              ...   \n",
       "8500.0      0.000017\n",
       "6300.0      0.000017\n",
       "220.0       0.000017\n",
       "138000.0    0.000017\n",
       "12.0        0.000017\n",
       "Name: amount_tsh, Length: 98, dtype: float64"
      ]
     },
     "execution_count": 244,
     "metadata": {},
     "output_type": "execute_result"
    }
   ],
   "source": [
    "\"\"\"Amount_tsh refers to the total static head which is  the height that water has to travel as it moves through your discharge pipe.\n",
    "Having a static head of 0 is normal\"\"\"\n",
    "\n",
    "training_set_data['amount_tsh'].value_counts(normalize=True)"
   ]
  },
  {
   "cell_type": "code",
   "execution_count": null,
   "metadata": {},
   "outputs": [
    {
     "data": {
      "text/plain": [
       " 0       0.344074\n",
       "-15      0.001010\n",
       "-16      0.000926\n",
       "-13      0.000926\n",
       "-20      0.000875\n",
       "           ...   \n",
       " 2285    0.000017\n",
       " 2424    0.000017\n",
       " 2552    0.000017\n",
       " 2413    0.000017\n",
       " 2385    0.000017\n",
       "Name: gps_height, Length: 2428, dtype: float64"
      ]
     },
     "execution_count": 245,
     "metadata": {},
     "output_type": "execute_result"
    }
   ],
   "source": [
    "\"\"\"GPS_height refers to the altitude of the well. Having a gps height of 0 could mean that the well\n",
    "    is located at or very close to the sea level.\n",
    "    A gps height of 0 could be determined by the well's location \"\"\"\n",
    "\n",
    "training_set_data['gps_height'].value_counts(normalize = True)"
   ]
  },
  {
   "cell_type": "code",
   "execution_count": null,
   "metadata": {},
   "outputs": [
    {
     "data": {
      "text/plain": [
       "0.000000     1812\n",
       "37.540901       2\n",
       "33.010510       2\n",
       "39.093484       2\n",
       "32.972719       2\n",
       "             ... \n",
       "37.579803       1\n",
       "33.196490       1\n",
       "34.017119       1\n",
       "33.788326       1\n",
       "30.163579       1\n",
       "Name: longitude, Length: 57516, dtype: int64"
      ]
     },
     "execution_count": 246,
     "metadata": {},
     "output_type": "execute_result"
    }
   ],
   "source": [
    "#closer look at longitute feature\n",
    "\n",
    "\"\"\"A longitude of 0.0000 is not viable in tanzania due to its geographical location\"\"\"\n",
    "\n",
    "training_set_data['longitude'].value_counts()\n",
    "\n"
   ]
  },
  {
   "cell_type": "code",
   "execution_count": null,
   "metadata": {},
   "outputs": [
    {
     "data": {
      "text/plain": [
       "False"
      ]
     },
     "execution_count": 247,
     "metadata": {},
     "output_type": "execute_result"
    }
   ],
   "source": [
    "#check if there is a latitude of -0.000.\n",
    "\n",
    "\"\"\" There is no -0.0000 latitude \"\"\"\n",
    "\n",
    "(training_set_data['latitude'] == -0.000).any()\n",
    "\n"
   ]
  },
  {
   "cell_type": "markdown",
   "metadata": {},
   "source": [
    "Replace 0.000 longitutde values"
   ]
  },
  {
   "cell_type": "code",
   "execution_count": null,
   "metadata": {},
   "outputs": [
    {
     "data": {
      "text/html": [
       "<div>\n",
       "<style scoped>\n",
       "    .dataframe tbody tr th:only-of-type {\n",
       "        vertical-align: middle;\n",
       "    }\n",
       "\n",
       "    .dataframe tbody tr th {\n",
       "        vertical-align: top;\n",
       "    }\n",
       "\n",
       "    .dataframe thead th {\n",
       "        text-align: right;\n",
       "    }\n",
       "</style>\n",
       "<table border=\"1\" class=\"dataframe\">\n",
       "  <thead>\n",
       "    <tr style=\"text-align: right;\">\n",
       "      <th></th>\n",
       "      <th>ward</th>\n",
       "      <th>longitude</th>\n",
       "    </tr>\n",
       "  </thead>\n",
       "  <tbody>\n",
       "    <tr>\n",
       "      <th>0</th>\n",
       "      <td>Mundindi</td>\n",
       "      <td>34.938093</td>\n",
       "    </tr>\n",
       "    <tr>\n",
       "      <th>1</th>\n",
       "      <td>Natta</td>\n",
       "      <td>34.698766</td>\n",
       "    </tr>\n",
       "    <tr>\n",
       "      <th>2</th>\n",
       "      <td>Ngorika</td>\n",
       "      <td>37.460664</td>\n",
       "    </tr>\n",
       "    <tr>\n",
       "      <th>3</th>\n",
       "      <td>Nanyumbu</td>\n",
       "      <td>38.486161</td>\n",
       "    </tr>\n",
       "    <tr>\n",
       "      <th>4</th>\n",
       "      <td>Nyakasimbi</td>\n",
       "      <td>31.130847</td>\n",
       "    </tr>\n",
       "    <tr>\n",
       "      <th>...</th>\n",
       "      <td>...</td>\n",
       "      <td>...</td>\n",
       "    </tr>\n",
       "    <tr>\n",
       "      <th>59395</th>\n",
       "      <td>Masama Magharibi</td>\n",
       "      <td>37.169807</td>\n",
       "    </tr>\n",
       "    <tr>\n",
       "      <th>59396</th>\n",
       "      <td>Ikondo</td>\n",
       "      <td>35.249991</td>\n",
       "    </tr>\n",
       "    <tr>\n",
       "      <th>59397</th>\n",
       "      <td>Chimala</td>\n",
       "      <td>34.017087</td>\n",
       "    </tr>\n",
       "    <tr>\n",
       "      <th>59398</th>\n",
       "      <td>Mvumi Makulu</td>\n",
       "      <td>35.861315</td>\n",
       "    </tr>\n",
       "    <tr>\n",
       "      <th>59399</th>\n",
       "      <td>Ngerengere</td>\n",
       "      <td>38.104048</td>\n",
       "    </tr>\n",
       "  </tbody>\n",
       "</table>\n",
       "<p>59400 rows × 2 columns</p>\n",
       "</div>"
      ],
      "text/plain": [
       "                   ward  longitude\n",
       "0              Mundindi  34.938093\n",
       "1                 Natta  34.698766\n",
       "2               Ngorika  37.460664\n",
       "3              Nanyumbu  38.486161\n",
       "4            Nyakasimbi  31.130847\n",
       "...                 ...        ...\n",
       "59395  Masama Magharibi  37.169807\n",
       "59396            Ikondo  35.249991\n",
       "59397           Chimala  34.017087\n",
       "59398      Mvumi Makulu  35.861315\n",
       "59399        Ngerengere  38.104048\n",
       "\n",
       "[59400 rows x 2 columns]"
      ]
     },
     "execution_count": 248,
     "metadata": {},
     "output_type": "execute_result"
    }
   ],
   "source": [
    "# closer look at the longitude feature\n",
    "from pandasql import sqldf\n",
    "query5 = \"\"\"SELECT ward, longitude FROM training_set_data\"\"\"\n",
    "\n",
    "pysqldf = sqldf(query5)\n",
    "result = pysqldf\n",
    "result"
   ]
  },
  {
   "cell_type": "code",
   "execution_count": null,
   "metadata": {},
   "outputs": [
    {
     "data": {
      "text/plain": [
       "0.000000     1458\n",
       "1.389623       71\n",
       "16.489199      63\n",
       "11.423871      58\n",
       "18.334100      55\n",
       "             ... \n",
       "34.017119       1\n",
       "33.788326       1\n",
       "37.371204       1\n",
       "35.455622       1\n",
       "33.955183       1\n",
       "Name: longitude, Length: 57526, dtype: int64"
      ]
     },
     "execution_count": 249,
     "metadata": {},
     "output_type": "execute_result"
    }
   ],
   "source": [
    "\"\"\"replace the longitude 0.0000 with the mean longitude  of the ward feature because its geographically coded\n",
    " and it has the most area information distribution\"\"\"\n",
    "\n",
    "#create function\n",
    "def ward(group):\n",
    "\n",
    "    mean_longitude = group['longitude'].mean()\n",
    "    group['longitude'].replace(0.000000, mean_longitude, inplace=True)\n",
    "    \n",
    "    return group\n",
    "\n",
    "# Apply the ward function\n",
    "training_set_data = training_set_data.groupby('ward').apply(ward).reset_index(drop=True)\n",
    "\n",
    "#assert replacement\n",
    "training_set_data['longitude'].value_counts()\n"
   ]
  },
  {
   "cell_type": "code",
   "execution_count": null,
   "metadata": {},
   "outputs": [
    {
     "data": {
      "text/plain": [
       "Njombe          2503\n",
       "Arusha Rural    1252\n",
       "Moshi Rural     1251\n",
       "Bariadi         1177\n",
       "Rungwe          1106\n",
       "                ... \n",
       "Moshi Urban       79\n",
       "Kigoma Urban      71\n",
       "Arusha Urban      63\n",
       "Lindi Urban       21\n",
       "Nyamagana          1\n",
       "Name: lga, Length: 125, dtype: int64"
      ]
     },
     "execution_count": 250,
     "metadata": {},
     "output_type": "execute_result"
    }
   ],
   "source": [
    "\"\"\" From our observation , there are still 1458, 0.000 longitude entries that need to be filled. We will make use of the lga feature to fill\n",
    "in these unwanted values\"\"\"\n",
    "\n",
    "# closer look at the ward feature\n",
    "training_set_data.lga.value_counts()"
   ]
  },
  {
   "cell_type": "code",
   "execution_count": null,
   "metadata": {},
   "outputs": [
    {
     "data": {
      "text/plain": [
       "7.046122     798\n",
       "0.707172     467\n",
       "22.722251    193\n",
       "1.389623      71\n",
       "16.489199     63\n",
       "            ... \n",
       "37.371204      1\n",
       "35.455622      1\n",
       "34.628176      1\n",
       "31.530352      1\n",
       "35.005922      1\n",
       "Name: longitude, Length: 57528, dtype: int64"
      ]
     },
     "execution_count": 251,
     "metadata": {},
     "output_type": "execute_result"
    }
   ],
   "source": [
    "# create a function\n",
    "def lga(group):\n",
    "\n",
    "    mean_longitude = group['longitude'].mean()\n",
    "    group['longitude'].replace(0.0000, mean_longitude, inplace=True)\n",
    "    \n",
    "    return group\n",
    "\n",
    "# Apply the lga function \n",
    "training_set_data = training_set_data.groupby('lga').apply(lga).reset_index(drop=True)\n",
    "\n",
    "# Display the updated value_counts\n",
    "training_set_data['longitude'].value_counts()"
   ]
  },
  {
   "cell_type": "code",
   "execution_count": null,
   "metadata": {},
   "outputs": [
    {
     "data": {
      "text/plain": [
       "0"
      ]
     },
     "execution_count": 252,
     "metadata": {},
     "output_type": "execute_result"
    }
   ],
   "source": [
    "#assert replacement. All 0.0000 have been replaced\n",
    "(training_set_data.longitude == 0.0000).sum()\n"
   ]
  },
  {
   "cell_type": "code",
   "execution_count": null,
   "metadata": {},
   "outputs": [
    {
     "data": {
      "text/plain": [
       "0      58643\n",
       "6         81\n",
       "1         73\n",
       "5         46\n",
       "8         46\n",
       "       ...  \n",
       "180        1\n",
       "213        1\n",
       "23         1\n",
       "55         1\n",
       "94         1\n",
       "Name: num_private, Length: 65, dtype: int64"
      ]
     },
     "execution_count": 253,
     "metadata": {},
     "output_type": "execute_result"
    }
   ],
   "source": [
    "# closer look at the num_private column\n",
    "training_set_data.num_private.value_counts()"
   ]
  },
  {
   "cell_type": "code",
   "execution_count": null,
   "metadata": {},
   "outputs": [],
   "source": [
    "# drop column as its not useful in our analysis\n",
    "training_set_data.drop('num_private' , axis = 1 , inplace = True)\n"
   ]
  },
  {
   "cell_type": "code",
   "execution_count": null,
   "metadata": {},
   "outputs": [
    {
     "data": {
      "text/plain": [
       "1     12203\n",
       "2     11173\n",
       "3      9998\n",
       "4      8999\n",
       "5      4356\n",
       "6      4074\n",
       "7      3343\n",
       "8      1043\n",
       "30      995\n",
       "33      874\n",
       "53      745\n",
       "43      505\n",
       "13      391\n",
       "23      293\n",
       "63      195\n",
       "62      109\n",
       "60       63\n",
       "0        23\n",
       "80       12\n",
       "67        6\n",
       "Name: district_code, dtype: int64"
      ]
     },
     "execution_count": 255,
     "metadata": {},
     "output_type": "execute_result"
    }
   ],
   "source": [
    "# closer look at the district code column\n",
    "training_set_data.district_code.value_counts()"
   ]
  },
  {
   "cell_type": "code",
   "execution_count": null,
   "metadata": {},
   "outputs": [],
   "source": [
    "# normally a district code of 0 is not valid but in this case i will not be making use of the district code feature \n",
    "training_set_data.drop(columns = 'district_code' ,inplace = True)"
   ]
  },
  {
   "cell_type": "code",
   "execution_count": null,
   "metadata": {},
   "outputs": [
    {
     "data": {
      "text/plain": [
       "0       0.359949\n",
       "1       0.118266\n",
       "200     0.032660\n",
       "150     0.031852\n",
       "250     0.028300\n",
       "          ...   \n",
       "3241    0.000017\n",
       "1960    0.000017\n",
       "1685    0.000017\n",
       "2248    0.000017\n",
       "1439    0.000017\n",
       "Name: population, Length: 1049, dtype: float64"
      ]
     },
     "execution_count": 257,
     "metadata": {},
     "output_type": "execute_result"
    }
   ],
   "source": [
    "\"\"\"Having a population of 0 around the well is very plausible.\"\"\"\n",
    "training_set_data.population.value_counts(normalize = True)\n",
    "\n",
    "# The population around a well can be 0"
   ]
  },
  {
   "cell_type": "code",
   "execution_count": null,
   "metadata": {},
   "outputs": [
    {
     "data": {
      "text/plain": [
       "functional                 32259\n",
       "non functional             22824\n",
       "functional needs repair     4317\n",
       "Name: status_group, dtype: int64"
      ]
     },
     "execution_count": 258,
     "metadata": {},
     "output_type": "execute_result"
    }
   ],
   "source": [
    "# closer look at status group\n",
    "training_set_data['status_group'].value_counts()"
   ]
  },
  {
   "cell_type": "code",
   "execution_count": null,
   "metadata": {},
   "outputs": [
    {
     "name": "stdout",
     "output_type": "stream",
     "text": [
      "[]\n"
     ]
    }
   ],
   "source": [
    "# check columns with nan entries\n",
    "columns_with_nan_entries = []\n",
    "\n",
    "for column in training_set_data.columns:\n",
    "    if (training_set_data[column] == 'nun').any():\n",
    "        columns_with_zero_entries.append(column)\n",
    "\n",
    "print(columns_with_nan_entries)"
   ]
  },
  {
   "cell_type": "code",
   "execution_count": null,
   "metadata": {},
   "outputs": [
    {
     "data": {
      "text/plain": [
       "spring                  17021\n",
       "shallow well            16824\n",
       "machine dbh             11075\n",
       "river                    9612\n",
       "rainwater harvesting     2295\n",
       "hand dtw                  874\n",
       "lake                      765\n",
       "dam                       656\n",
       "other                     212\n",
       "unknown                    66\n",
       "Name: source, dtype: int64"
      ]
     },
     "execution_count": 260,
     "metadata": {},
     "output_type": "execute_result"
    }
   ],
   "source": [
    "\"\"\"We will leave the 'unknown' and 'other' entries as is because the water sources for the well being 'unknown' is very possible\n",
    "and the water sources could be unexplainable hence the unknown tag\"\"\"\n",
    "\n",
    "#closer look at the source column\n",
    "training_set_data['source'].value_counts().sort_values(ascending=False)\n"
   ]
  },
  {
   "cell_type": "code",
   "execution_count": null,
   "metadata": {},
   "outputs": [
    {
     "data": {
      "text/plain": [
       "spring                  17021\n",
       "shallow well            16824\n",
       "borehole                11949\n",
       "river/lake              10377\n",
       "rainwater harvesting     2295\n",
       "dam                       656\n",
       "other                     278\n",
       "Name: source_type, dtype: int64"
      ]
     },
     "execution_count": 261,
     "metadata": {},
     "output_type": "execute_result"
    }
   ],
   "source": [
    "# closer look at the source_type class\n",
    "training_set_data['source_type'].value_counts()"
   ]
  },
  {
   "cell_type": "code",
   "execution_count": null,
   "metadata": {},
   "outputs": [
    {
     "data": {
      "text/plain": [
       "groundwater    45794\n",
       "surface        13328\n",
       "unknown          278\n",
       "Name: source_class, dtype: int64"
      ]
     },
     "execution_count": 262,
     "metadata": {},
     "output_type": "execute_result"
    }
   ],
   "source": [
    "# closer look at the source_class feature\n",
    "training_set_data['source_class'].value_counts()"
   ]
  },
  {
   "cell_type": "code",
   "execution_count": null,
   "metadata": {},
   "outputs": [],
   "source": [
    "# dropping source type and class due to duplication of information\n",
    "training_set_data.drop(columns = ['source_class' , 'source_type'],  inplace = True)"
   ]
  },
  {
   "cell_type": "code",
   "execution_count": null,
   "metadata": {},
   "outputs": [
    {
     "data": {
      "text/plain": [
       "soft                  50818\n",
       "salty                  4856\n",
       "unknown                1876\n",
       "milky                   804\n",
       "coloured                490\n",
       "salty abandoned         339\n",
       "fluoride                200\n",
       "fluoride abandoned       17\n",
       "Name: water_quality, dtype: int64"
      ]
     },
     "execution_count": 264,
     "metadata": {},
     "output_type": "execute_result"
    }
   ],
   "source": [
    "\"\"\"We will leave the water quality unknown category as is because not having knowledge\n",
    " on the water quality and using the unknown tag is realistic\"\"\"\n",
    "\n",
    "# closer look at water quality\n",
    "training_set_data.water_quality.value_counts()"
   ]
  },
  {
   "cell_type": "code",
   "execution_count": null,
   "metadata": {},
   "outputs": [
    {
     "data": {
      "text/plain": [
       "good        50818\n",
       "salty        5195\n",
       "unknown      1876\n",
       "milky         804\n",
       "colored       490\n",
       "fluoride      217\n",
       "Name: quality_group, dtype: int64"
      ]
     },
     "execution_count": 265,
     "metadata": {},
     "output_type": "execute_result"
    }
   ],
   "source": [
    "# closer look at quality feature\n",
    "training_set_data.quality_group.value_counts()"
   ]
  },
  {
   "cell_type": "code",
   "execution_count": null,
   "metadata": {},
   "outputs": [],
   "source": [
    "# water quality and quality group features have the same categories. Drop the quality group category because the water quality category is more defined\n",
    "training_set_data.drop(columns = 'quality_group' , inplace = True)"
   ]
  },
  {
   "cell_type": "code",
   "execution_count": null,
   "metadata": {},
   "outputs": [
    {
     "data": {
      "text/plain": [
       "enough          33186\n",
       "insufficient    15129\n",
       "dry              6246\n",
       "seasonal         4050\n",
       "unknown           789\n",
       "Name: quantity, dtype: int64"
      ]
     },
     "execution_count": 267,
     "metadata": {},
     "output_type": "execute_result"
    }
   ],
   "source": [
    "# closer look at quantity\n",
    "training_set_data.quantity.value_counts()"
   ]
  },
  {
   "cell_type": "code",
   "execution_count": null,
   "metadata": {},
   "outputs": [
    {
     "data": {
      "text/plain": [
       "enough          33186\n",
       "insufficient    15129\n",
       "dry              6246\n",
       "seasonal         4050\n",
       "unknown           789\n",
       "Name: quantity_group, dtype: int64"
      ]
     },
     "execution_count": 268,
     "metadata": {},
     "output_type": "execute_result"
    }
   ],
   "source": [
    "#closer look at quantity group\n",
    "training_set_data.quantity_group.value_counts()"
   ]
  },
  {
   "cell_type": "code",
   "execution_count": null,
   "metadata": {},
   "outputs": [],
   "source": [
    "# quantity group and quantity have the same categories so ill drop the quantity group feature\n",
    "\n",
    "training_set_data.drop(columns = 'quantity_group', inplace = True)"
   ]
  },
  {
   "cell_type": "code",
   "execution_count": null,
   "metadata": {},
   "outputs": [
    {
     "data": {
      "text/plain": [
       "(never pay                25348\n",
       " pay per bucket            8985\n",
       " pay monthly               8300\n",
       " unknown                   8157\n",
       " pay when scheme fails     3914\n",
       " pay annually              3642\n",
       " other                     1054\n",
       " Name: payment, dtype: int64,\n",
       " never pay     25348\n",
       " per bucket     8985\n",
       " monthly        8300\n",
       " unknown        8157\n",
       " on failure     3914\n",
       " annually       3642\n",
       " other          1054\n",
       " Name: payment_type, dtype: int64)"
      ]
     },
     "execution_count": 270,
     "metadata": {},
     "output_type": "execute_result"
    }
   ],
   "source": [
    "# closer look at payments and payment type\n",
    "payment_counts = training_set_data.payment.value_counts()\n",
    "payment_type_counts = training_set_data.payment_type.value_counts()\n",
    "\n",
    "payment_counts ,payment_type_counts"
   ]
  },
  {
   "cell_type": "code",
   "execution_count": null,
   "metadata": {},
   "outputs": [],
   "source": [
    "# payment and payment type feature have the same categories. so ill drop the payment_type feature\n",
    "training_set_data.drop(columns = 'payment_type' , inplace = True)"
   ]
  },
  {
   "cell_type": "code",
   "execution_count": null,
   "metadata": {},
   "outputs": [
    {
     "data": {
      "text/plain": [
       "Nabili                 1\n",
       "Kwa Mtotela            1\n",
       "Shule Igulwa           1\n",
       "Kwa Simon Methew       1\n",
       "Kailenza               1\n",
       "                    ... \n",
       "Kanisani             323\n",
       "Msikitini            535\n",
       "Zahanati             830\n",
       "Shuleni             1748\n",
       "none                3563\n",
       "Name: wpt_name, Length: 37400, dtype: int64"
      ]
     },
     "execution_count": 272,
     "metadata": {},
     "output_type": "execute_result"
    }
   ],
   "source": [
    "# closer look at wpt_name\n",
    "training_set_data['wpt_name'] . value_counts().sort_values(ascending=True)\n"
   ]
  },
  {
   "cell_type": "code",
   "execution_count": null,
   "metadata": {},
   "outputs": [],
   "source": [
    "# drop the wpt_name column as i won't be needing it in my analysis\n",
    "training_set_data.drop(columns = 'wpt_name' , inplace = True)"
   ]
  },
  {
   "cell_type": "code",
   "execution_count": null,
   "metadata": {},
   "outputs": [
    {
     "data": {
      "text/plain": [
       "GeoData Consultants Ltd    59400\n",
       "Name: recorded_by, dtype: int64"
      ]
     },
     "execution_count": 274,
     "metadata": {},
     "output_type": "execute_result"
    }
   ],
   "source": [
    "# closer look at recorded by feature\n",
    "training_set_data['recorded_by'] . value_counts().sort_values(ascending=True)"
   ]
  },
  {
   "cell_type": "code",
   "execution_count": null,
   "metadata": {},
   "outputs": [],
   "source": [
    "# drop this column because it wont be useful in our analysis\n",
    "training_set_data.drop(columns = 'recorded_by' , inplace = True)"
   ]
  },
  {
   "cell_type": "code",
   "execution_count": null,
   "metadata": {},
   "outputs": [
    {
     "data": {
      "text/plain": [
       "india mark iii        98\n",
       "wind-powered         117\n",
       "other motorpump      122\n",
       "other handpump       364\n",
       "rope pump            451\n",
       "afridev             1770\n",
       "india mark ii       2400\n",
       "mono                2865\n",
       "swn 80              3670\n",
       "submersible         6179\n",
       "other               6430\n",
       "nira/tanira         8154\n",
       "gravity            26780\n",
       "Name: extraction_type_group, dtype: int64"
      ]
     },
     "execution_count": 276,
     "metadata": {},
     "output_type": "execute_result"
    }
   ],
   "source": [
    "# closer look at the extraction classes\n",
    "training_set_data['extraction_type_group'] . value_counts().sort_values(ascending=True)"
   ]
  },
  {
   "cell_type": "code",
   "execution_count": null,
   "metadata": {},
   "outputs": [
    {
     "data": {
      "text/plain": [
       "other - mkulima/shinyanga        2\n",
       "climax                          32\n",
       "walimi                          48\n",
       "other - play pump               85\n",
       "cemo                            90\n",
       "india mark iii                  98\n",
       "windmill                       117\n",
       "other - swn 81                 229\n",
       "other - rope pump              451\n",
       "ksb                           1415\n",
       "afridev                       1770\n",
       "india mark ii                 2400\n",
       "mono                          2865\n",
       "swn 80                        3670\n",
       "submersible                   4764\n",
       "other                         6430\n",
       "nira/tanira                   8154\n",
       "gravity                      26780\n",
       "Name: extraction_type, dtype: int64"
      ]
     },
     "execution_count": 277,
     "metadata": {},
     "output_type": "execute_result"
    }
   ],
   "source": [
    "training_set_data['extraction_type'] . value_counts().sort_values(ascending=True)"
   ]
  },
  {
   "cell_type": "code",
   "execution_count": null,
   "metadata": {},
   "outputs": [
    {
     "data": {
      "text/plain": [
       "wind-powered      117\n",
       "rope pump         451\n",
       "motorpump        2987\n",
       "submersible      6179\n",
       "other            6430\n",
       "handpump        16456\n",
       "gravity         26780\n",
       "Name: extraction_type_class, dtype: int64"
      ]
     },
     "execution_count": 278,
     "metadata": {},
     "output_type": "execute_result"
    }
   ],
   "source": [
    "training_set_data['extraction_type_class'] . value_counts().sort_values(ascending=True)"
   ]
  },
  {
   "cell_type": "code",
   "execution_count": null,
   "metadata": {},
   "outputs": [],
   "source": [
    "# dropping all the remaining type_group and type class columns because of duplication of information \n",
    "training_set_data.drop(columns = ['extraction_type_group' , 'extraction_type_class' , 'waterpoint_type_group', 'management_group'], inplace = True)"
   ]
  },
  {
   "cell_type": "code",
   "execution_count": null,
   "metadata": {},
   "outputs": [],
   "source": [
    "## We wont be needing the date recorded column anymore. So we will drop it\n",
    "training_set_data.drop('date_recorded', axis = 1 , inplace = True)"
   ]
  },
  {
   "cell_type": "code",
   "execution_count": null,
   "metadata": {},
   "outputs": [
    {
     "data": {
      "image/png": "[encoded data removed]",
      "text/plain": [
       "<Figure size 720x360 with 1 Axes>"
      ]
     },
     "metadata": {
      "needs_background": "light"
     },
     "output_type": "display_data"
    },
    {
     "data": {
      "text/plain": [
       "'Functional water pumps have the highest distribution followed closely by non_functional waterpumps'"
      ]
     },
     "execution_count": 281,
     "metadata": {},
     "output_type": "execute_result"
    }
   ],
   "source": [
    "# distribution of status groups\n",
    "status_group_count = training_set_data.status_group.value_counts()\n",
    "labels = list(status_group_count.index)\n",
    "counts = list(status_group_count.tolist())\n",
    "\n",
    "# plot\n",
    "plt.figure(figsize=(10, 5)) \n",
    "plt.bar(labels, counts, color=['green', 'blue', 'orange']) \n",
    "plt.title('Status Group Distribution')\n",
    "plt.xlabel('Status Group')\n",
    "plt.ylabel('Count')\n",
    "\n",
    "\n",
    "plt.show()\n",
    "\n",
    "\"\"\"Functional water pumps have the highest distribution followed closely by non_functional waterpumps\"\"\"\n"
   ]
  },
  {
   "cell_type": "code",
   "execution_count": null,
   "metadata": {},
   "outputs": [
    {
     "data": {
      "image/png": "[encoded data removed]",
      "text/plain": [
       "<Figure size 1440x720 with 2 Axes>"
      ]
     },
     "metadata": {
      "needs_background": "light"
     },
     "output_type": "display_data"
    }
   ],
   "source": [
    "# Checking Correlation\n",
    "plt.figure(figsize = (20, 10))\n",
    "var = training_set_data.corr()\n",
    "sns.heatmap(var, annot = True, cmap = \"YlGnBu\");"
   ]
  },
  {
   "cell_type": "code",
   "execution_count": 283,
   "metadata": {},
   "outputs": [
    {
     "data": {
      "text/html": [
       "<div>\n",
       "<style scoped>\n",
       "    .dataframe tbody tr th:only-of-type {\n",
       "        vertical-align: middle;\n",
       "    }\n",
       "\n",
       "    .dataframe tbody tr th {\n",
       "        vertical-align: top;\n",
       "    }\n",
       "\n",
       "    .dataframe thead th {\n",
       "        text-align: right;\n",
       "    }\n",
       "</style>\n",
       "<table border=\"1\" class=\"dataframe\">\n",
       "  <thead>\n",
       "    <tr style=\"text-align: right;\">\n",
       "      <th></th>\n",
       "      <th>id</th>\n",
       "      <th>amount_tsh</th>\n",
       "      <th>gps_height</th>\n",
       "      <th>longitude</th>\n",
       "      <th>latitude</th>\n",
       "      <th>region_code</th>\n",
       "      <th>population</th>\n",
       "      <th>region_encoded</th>\n",
       "    </tr>\n",
       "  </thead>\n",
       "  <tbody>\n",
       "    <tr>\n",
       "      <th>id</th>\n",
       "      <td>1.000000</td>\n",
       "      <td>-0.005321</td>\n",
       "      <td>-0.004692</td>\n",
       "      <td>-0.001567</td>\n",
       "      <td>0.001718</td>\n",
       "      <td>-0.003028</td>\n",
       "      <td>-0.002813</td>\n",
       "      <td>-0.000275</td>\n",
       "    </tr>\n",
       "    <tr>\n",
       "      <th>amount_tsh</th>\n",
       "      <td>-0.005321</td>\n",
       "      <td>1.000000</td>\n",
       "      <td>0.076650</td>\n",
       "      <td>0.021820</td>\n",
       "      <td>-0.052670</td>\n",
       "      <td>-0.026813</td>\n",
       "      <td>0.016288</td>\n",
       "      <td>-0.019866</td>\n",
       "    </tr>\n",
       "    <tr>\n",
       "      <th>gps_height</th>\n",
       "      <td>-0.004692</td>\n",
       "      <td>0.076650</td>\n",
       "      <td>1.000000</td>\n",
       "      <td>0.135404</td>\n",
       "      <td>-0.035751</td>\n",
       "      <td>-0.183521</td>\n",
       "      <td>0.135003</td>\n",
       "      <td>-0.323833</td>\n",
       "    </tr>\n",
       "    <tr>\n",
       "      <th>longitude</th>\n",
       "      <td>-0.001567</td>\n",
       "      <td>0.021820</td>\n",
       "      <td>0.135404</td>\n",
       "      <td>1.000000</td>\n",
       "      <td>-0.424481</td>\n",
       "      <td>0.047906</td>\n",
       "      <td>0.086893</td>\n",
       "      <td>-0.130982</td>\n",
       "    </tr>\n",
       "    <tr>\n",
       "      <th>latitude</th>\n",
       "      <td>0.001718</td>\n",
       "      <td>-0.052670</td>\n",
       "      <td>-0.035751</td>\n",
       "      <td>-0.424481</td>\n",
       "      <td>1.000000</td>\n",
       "      <td>-0.221018</td>\n",
       "      <td>-0.022152</td>\n",
       "      <td>-0.025485</td>\n",
       "    </tr>\n",
       "    <tr>\n",
       "      <th>region_code</th>\n",
       "      <td>-0.003028</td>\n",
       "      <td>-0.026813</td>\n",
       "      <td>-0.183521</td>\n",
       "      <td>0.047906</td>\n",
       "      <td>-0.221018</td>\n",
       "      <td>1.000000</td>\n",
       "      <td>0.094088</td>\n",
       "      <td>0.109343</td>\n",
       "    </tr>\n",
       "    <tr>\n",
       "      <th>population</th>\n",
       "      <td>-0.002813</td>\n",
       "      <td>0.016288</td>\n",
       "      <td>0.135003</td>\n",
       "      <td>0.086893</td>\n",
       "      <td>-0.022152</td>\n",
       "      <td>0.094088</td>\n",
       "      <td>1.000000</td>\n",
       "      <td>-0.004416</td>\n",
       "    </tr>\n",
       "    <tr>\n",
       "      <th>region_encoded</th>\n",
       "      <td>-0.000275</td>\n",
       "      <td>-0.019866</td>\n",
       "      <td>-0.323833</td>\n",
       "      <td>-0.130982</td>\n",
       "      <td>-0.025485</td>\n",
       "      <td>0.109343</td>\n",
       "      <td>-0.004416</td>\n",
       "      <td>1.000000</td>\n",
       "    </tr>\n",
       "  </tbody>\n",
       "</table>\n",
       "</div>"
      ],
      "text/plain": [
       "                      id  amount_tsh  gps_height  longitude  latitude  \\\n",
       "id              1.000000   -0.005321   -0.004692  -0.001567  0.001718   \n",
       "amount_tsh     -0.005321    1.000000    0.076650   0.021820 -0.052670   \n",
       "gps_height     -0.004692    0.076650    1.000000   0.135404 -0.035751   \n",
       "longitude      -0.001567    0.021820    0.135404   1.000000 -0.424481   \n",
       "latitude        0.001718   -0.052670   -0.035751  -0.424481  1.000000   \n",
       "region_code    -0.003028   -0.026813   -0.183521   0.047906 -0.221018   \n",
       "population     -0.002813    0.016288    0.135003   0.086893 -0.022152   \n",
       "region_encoded -0.000275   -0.019866   -0.323833  -0.130982 -0.025485   \n",
       "\n",
       "                region_code  population  region_encoded  \n",
       "id                -0.003028   -0.002813       -0.000275  \n",
       "amount_tsh        -0.026813    0.016288       -0.019866  \n",
       "gps_height        -0.183521    0.135003       -0.323833  \n",
       "longitude          0.047906    0.086893       -0.130982  \n",
       "latitude          -0.221018   -0.022152       -0.025485  \n",
       "region_code        1.000000    0.094088        0.109343  \n",
       "population         0.094088    1.000000       -0.004416  \n",
       "region_encoded     0.109343   -0.004416        1.000000  "
      ]
     },
     "execution_count": 283,
     "metadata": {},
     "output_type": "execute_result"
    }
   ],
   "source": [
    "training_set_data.corr()"
   ]
  },
  {
   "cell_type": "markdown",
   "metadata": {},
   "source": [
    "There is moderate and weak correlation between my features therefore there is no multicolinearity with my data"
   ]
  },
  {
   "cell_type": "code",
   "execution_count": 284,
   "metadata": {},
   "outputs": [
    {
     "data": {
      "text/plain": [
       "24"
      ]
     },
     "execution_count": 284,
     "metadata": {},
     "output_type": "execute_result"
    }
   ],
   "source": [
    "# Check length of columns\n",
    "len(training_set_data.columns)"
   ]
  },
  {
   "cell_type": "code",
   "execution_count": 285,
   "metadata": {},
   "outputs": [],
   "source": [
    "#Save clean df\n",
    "training_set_data.to_csv('clean_training_data.csv')"
   ]
  },
  {
   "cell_type": "markdown",
   "metadata": {},
   "source": [
    "## MODELLING"
   ]
  },
  {
   "cell_type": "markdown",
   "metadata": {},
   "source": [
    "It is  worse for non functional wells to be predicted as functional than for functional wells to be predicted as non functional. This is because it would create an impression that alot of well are in a functional state subsequently leading to a scarcity in water. Our goal is minimizing false negatives for non functional wells and choose a model that does that"
   ]
  },
  {
   "cell_type": "markdown",
   "metadata": {},
   "source": [
    "### Train split test"
   ]
  },
  {
   "cell_type": "code",
   "execution_count": 286,
   "metadata": {},
   "outputs": [],
   "source": [
    "#Import necessary libraries\n",
    "import  category_encoders as ce\n",
    "from sklearn.model_selection import train_test_split\n",
    "from sklearn.preprocessing import StandardScaler\n",
    "from imblearn.over_sampling import SMOTE\n",
    "from sklearn.dummy import DummyClassifier\n",
    "from sklearn.metrics import accuracy_score\n",
    "import numpy as np\n",
    "from sklearn.ensemble import RandomForestClassifier\n",
    "from sklearn.metrics import confusion_matrix, classification_report, accuracy_score\n",
    "from sklearn.metrics import ConfusionMatrixDisplay\n",
    "from xgboost import XGBClassifier\n"
   ]
  },
  {
   "cell_type": "code",
   "execution_count": 287,
   "metadata": {},
   "outputs": [],
   "source": [
    "\"\"\"encoding my categorical data using Binary Encoding\"\"\"\n",
    "\n",
    "# Create a copy of the target variable\n",
    "target_variable = training_set_data['status_group'].copy()\n",
    "\n",
    "# drop target variable\n",
    "categorical_columns = training_set_data.select_dtypes(include=['object']).drop(['status_group'], axis=1).columns\n",
    "\n",
    "#  instantiate\n",
    "encoder = ce.BinaryEncoder(cols=categorical_columns)\n",
    "\n",
    "# Fit and transform the identified categorical columns\n",
    "data_encoded = encoder.fit_transform(training_set_data[categorical_columns])\n",
    "\n",
    "# drop original columns and add the encoded ones\n",
    "training_set_data.drop(columns=categorical_columns, inplace=True)\n",
    "training_set_data = pd.concat([training_set_data, data_encoded], axis=1)\n"
   ]
  },
  {
   "cell_type": "code",
   "execution_count": 288,
   "metadata": {},
   "outputs": [
    {
     "name": "stdout",
     "output_type": "stream",
     "text": [
      " X_train dataset:  (47520, 89)\n",
      "y_train dataset:  (47520,)\n",
      " X_test dataset:  (11880, 89)\n",
      " y_test dataset:  (11880,)\n"
     ]
    }
   ],
   "source": [
    "#split my data\n",
    "X = training_set_data.drop(['status_group'], axis=1)\n",
    "y = training_set_data['status_group']\n",
    "\n",
    "X_train, X_test, y_train, y_test = train_test_split(X, y, test_size=0.2, stratify=y, random_state=42)\n",
    "\n",
    "# information about train and test set \n",
    "print(\" X_train dataset: \", X_train.shape) \n",
    "print(\"y_train dataset: \", y_train.shape) \n",
    "print(\" X_test dataset: \", X_test.shape) \n",
    "print(\" y_test dataset: \", y_test.shape) "
   ]
  },
  {
   "cell_type": "code",
   "execution_count": 289,
   "metadata": {},
   "outputs": [],
   "source": [
    "# scale my data\n",
    "scaler = StandardScaler()  # instantiate\n",
    "X_train_scaled = scaler.fit_transform(X_train) # fit and transform my train data\n",
    "\n",
    "# Transform the test data \n",
    "X_test_scaled = scaler.transform(X_test)"
   ]
  },
  {
   "cell_type": "code",
   "execution_count": 290,
   "metadata": {},
   "outputs": [],
   "source": [
    "#Apply SMOTE to the training data \n",
    "sm = SMOTE(random_state=42)\n",
    "X_train_resampled, y_train_resampled = sm.fit_resample(X_train_scaled, y_train)"
   ]
  },
  {
   "cell_type": "markdown",
   "metadata": {},
   "source": [
    "##  BASELINE MODEL\n",
    "Using random classifier. The random clasiffier assigns class labels without observing any patterns in the data"
   ]
  },
  {
   "cell_type": "code",
   "execution_count": 291,
   "metadata": {},
   "outputs": [
    {
     "name": "stdout",
     "output_type": "stream",
     "text": [
      "The Random Classifier Accuracy is :  0.34\n"
     ]
    }
   ],
   "source": [
    "# Create our baseline model\n",
    "random_classifier = DummyClassifier(strategy= 'uniform')\n",
    "\n",
    "#fit it\n",
    "random_classifier.fit(X_train_resampled , y_train_resampled)\n",
    "\n",
    "#make predictions on scaled features\n",
    "y_random_predict = random_classifier.predict(X_test_scaled)\n",
    "\n",
    "#evaluate the accuracy\n",
    "accuracy = accuracy_score(y_test , y_random_predict)\n",
    "\n",
    "print(f\"The Random Classifier Accuracy is : { accuracy : .2f}\")\n"
   ]
  },
  {
   "cell_type": "markdown",
   "metadata": {},
   "source": [
    "The baseline model has an accuracy of 0.34"
   ]
  },
  {
   "cell_type": "markdown",
   "metadata": {},
   "source": [
    "## FIRST MODEL\n",
    "\n",
    "Using random forest classifier"
   ]
  },
  {
   "cell_type": "code",
   "execution_count": 293,
   "metadata": {},
   "outputs": [
    {
     "name": "stdout",
     "output_type": "stream",
     "text": [
      "[[5462  355  635]\n",
      " [ 377  353  133]\n",
      " [ 854  111 3600]]\n",
      "                         precision    recall  f1-score   support\n",
      "\n",
      "             functional       0.82      0.85      0.83      6452\n",
      "functional needs repair       0.43      0.41      0.42       863\n",
      "         non functional       0.82      0.79      0.81      4565\n",
      "\n",
      "               accuracy                           0.79     11880\n",
      "              macro avg       0.69      0.68      0.69     11880\n",
      "           weighted avg       0.79      0.79      0.79     11880\n",
      "\n"
     ]
    }
   ],
   "source": [
    "#create a random forest classifier\n",
    "rf_classifier = RandomForestClassifier(random_state=42 )\n",
    "\n",
    "#fit the model\n",
    "rf_classifier.fit (X_train_resampled , y_train_resampled)\n",
    "\n",
    "#make predictions\n",
    "y_predict = rf_classifier.predict(X_test_scaled)\n",
    "\n",
    "#evaluate the accuracy\n",
    "print(confusion_matrix(y_test, y_predict))\n",
    "print(classification_report(y_test, y_predict))\n"
   ]
  },
  {
   "cell_type": "code",
   "execution_count": 296,
   "metadata": {},
   "outputs": [
    {
     "data": {
      "image/png": "[encoded data removed]",
      "text/plain": [
       "<Figure size 576x432 with 2 Axes>"
      ]
     },
     "metadata": {
      "needs_background": "light"
     },
     "output_type": "display_data"
    }
   ],
   "source": [
    "#visualize confusion matrix\n",
    "import matplotlib.pyplot as plt\n",
    "import seaborn as sns\n",
    "from sklearn.metrics import confusion_matrix\n",
    "from sklearn.metrics import classification_report\n",
    "\n",
    "# confusion matrix\n",
    "confusion_matrix = [[5462 , 355 , 635],\n",
    "                [ 377 , 353 , 133],\n",
    "                [ 854 , 111, 3600]]\n",
    "\n",
    "# class labels\n",
    "class_labels = ['functional', 'functional needs repair', 'non functional']\n",
    "\n",
    "# confusion matrix heatmap\n",
    "plt.figure(figsize=(8, 6))\n",
    "sns.heatmap(confusion_matrix, annot=True, fmt='d', cmap='Blues', xticklabels=class_labels, yticklabels=class_labels)\n",
    "\n",
    "#labels\n",
    "plt.xlabel('Predicted')\n",
    "plt.ylabel('Actual')\n",
    "plt.title('Confusion Matrix Heatmap')\n",
    "plt.show()"
   ]
  },
  {
   "cell_type": "markdown",
   "metadata": {},
   "source": [
    "The first row represents instances that are in the functional class, the second row represents instances that are in the functtional needs repair class and the third row represents instances that are in the not functional class\n",
    "                        \n",
    "> <span style=\"color: blue\">*Functional*</span>\n",
    "\n",
    "The model correctly predicted 5462 instances as functional. It wrongly predicted 355 instances as functional needs repair when in real sense they were functional and also wrongly predicts 635 instances as non functional while they were actually functional\n",
    "\n",
    "> <span style=\"color: blue\">*Functional Needs Repair*</span>\n",
    "\n",
    "The model correctly predicts 353 instances as functional needs repair. It wrongly predicted 377 instances as functional when in real sense they needed repair and also wrongly precicted 133 instances as not functional when they needed repair\n",
    "\n",
    "> <span style=\"color: blue\">*Non_Functional*</span>\n",
    "\n",
    "The model correctly predicts 3600 instances  as not functional. However it wrongly predicted 854 instances as functional when they were not functional and also wrongly predicted 111 instances as needs repair when they were not functional.\n",
    "\n",
    "> <span style=\"color: blue\">*Precision*</span>\n",
    "\n",
    "It measures the proportion of all predictions that were correct.\n",
    "Theres an 82% precision for the functional wells , a 43% precision for the functional needs repair wells and a 82% precision for the not functional wells.\n",
    "\n",
    "> <span style=\"color: blue\">*Recall*</span>\n",
    "\n",
    "Measures the proportion of actual positive cases that were correctly identified\n",
    "85% of positive instances in the functional status group were correctly predicted  41% in the functional needs repair were predicted and 79% in the not functional status group were predicted\n",
    "\n",
    "> <span style=\"color: blue\">*F1_Score*</span>\n",
    "\n",
    "This is the harmonic mean of precision and recall \n",
    "Functional had a score of 83% , functional needs repair had a score of 42% and non functional 81%\n",
    "\n",
    "> <span style=\"color: blue\">*Support*</span>\n",
    "\n",
    "This is the number of instances in eeach of your class\n",
    "\n",
    "> <span style=\"color: blue\">*Accuracy*</span>\n",
    "\n",
    "Measures the overall correctness of the model's predictions. Our model has an accuracy of 79%"
   ]
  },
  {
   "cell_type": "markdown",
   "metadata": {},
   "source": [
    "However the predictions in my functional needs repair class are performinng poorly. we shall make use of another model to see if there will be any improvements"
   ]
  },
  {
   "cell_type": "markdown",
   "metadata": {},
   "source": [
    "##  SECOND MODEL\n",
    "Using XGboost classification\n"
   ]
  },
  {
   "cell_type": "code",
   "execution_count": null,
   "metadata": {},
   "outputs": [
    {
     "name": "stdout",
     "output_type": "stream",
     "text": [
      "                         precision    recall  f1-score   support\n",
      "\n",
      "             functional       0.80      0.85      0.82      6452\n",
      "functional needs repair       0.43      0.48      0.45       863\n",
      "         non functional       0.84      0.75      0.79      4565\n",
      "\n",
      "               accuracy                           0.78     11880\n",
      "              macro avg       0.69      0.69      0.69     11880\n",
      "           weighted avg       0.79      0.78      0.78     11880\n",
      "\n",
      "[[5475  397  580]\n",
      " [ 357  412   94]\n",
      " [1003  139 3423]]\n"
     ]
    }
   ],
   "source": [
    "xgb_classifier = XGBClassifier(random_state=42)\n",
    "\n",
    "# Train model\n",
    "xgb_classifier.fit(X_train_resampled , y_train_resampled)\n",
    "\n",
    "# Make predictions\n",
    "xgb_y_predict = xgb_classifier.predict(X_test_scaled)\n",
    "\n",
    "# Evaluate the model\n",
    "accuracy_xgb = accuracy_score(y_test, xgb_y_predict)\n",
    "\n",
    "print(classification_report(y_test, xgb_y_predict))\n",
    "print(confusion_matrix(y_test, xgb_y_predict))"
   ]
  },
  {
   "cell_type": "code",
   "execution_count": 297,
   "metadata": {},
   "outputs": [
    {
     "data": {
      "image/png": "[encoded data removed]",
      "text/plain": [
       "<Figure size 576x432 with 2 Axes>"
      ]
     },
     "metadata": {
      "needs_background": "light"
     },
     "output_type": "display_data"
    }
   ],
   "source": [
    "# confusion matrix\n",
    "confusion_matrix = [[5475 , 397 , 580],\n",
    "                [ 357 , 412  , 94],\n",
    "                    [1003 , 139 ,3423]]\n",
    "\n",
    "# class labels\n",
    "class_labels = ['functional', 'functional needs repair', 'non functional']\n",
    "\n",
    "# confusion matrix heat map\n",
    "plt.figure(figsize=(8, 6))\n",
    "sns.heatmap(confusion_matrix, annot=True, fmt='d', cmap='Blues', xticklabels=class_labels, yticklabels=class_labels)\n",
    "\n",
    "#labels\n",
    "plt.xlabel('Predicted')\n",
    "plt.ylabel('True')\n",
    "plt.title('Confusion Matrix Heatmap')\n",
    "plt.show()"
   ]
  },
  {
   "cell_type": "markdown",
   "metadata": {},
   "source": [
    "The accuracy is 78% which is lower than for the first model but by just 1%.\n",
    "\n",
    "For the ***Functional*** class , the second model has a ***recall*** (0.85) which is similar to the first models, a lower ***precision*** (0.80) compared to (0.82) and a lower **f1_score** of (0.82) compared to the first model's (0.83)\n",
    "\n",
    "For the ***Functional Needs Repair*** class, the second model has a higher ***recall*** (0.48) compared to the first model's (0.41) and a  similar ***precision*** of (0.43). The ***f_1 score*** is higher at (0.45) compared to (0.42)\n",
    "\n",
    "For the ***Non-Functional*** class, the seconds model's ***precision*** (0.80) is somewhat lower in comparison to that of the first model's (0.82), and its ***recall*** (0.75) is marginally lower than that of the first model which is (0.79). The ***f_1 score*** of the second model is lower(0.79) than that of the first models(0.81).\n",
    "\n",
    "> <span style=\"color: blue\">*Functional*</span>\n",
    "\n",
    "The second model correctly predicts (5475) functional well , while the first predicted(5462) ***better***.\n",
    "\n",
    "It wrongly predicts (397) functional wells  as functional needs repair compared to (355) ***worse*** \n",
    "\n",
    "And (580) functional wells  as non functional compared to the first models(635) from the first model ***better***\n",
    "\n",
    "\n",
    "> <span style=\"color: blue\">*Functional Needs Repair*</span>\n",
    "\n",
    "The second model correctly predicts (412) wells as needs repair compared to the first's (353). ***better***\n",
    "\n",
    "It predicts (357) functional needs repair as functional compared to the first models(377) - ***better***\n",
    "\n",
    "And (94) functional needs repair as non_functional compared to the first models (133) - ***better***\n",
    "\n",
    "> <span style=\"color: blue\">*Not Functional*</span>\n",
    "\n",
    "Correctly predicts (3423) as not functional compared to the firsts (3600) - ***worse**\n",
    "\n",
    "It predicts (139) non functional wells as functional needs repair compared to the first's (111) - ***worse***\n",
    "\n",
    "And (1003) non functional wells as functional compared to the first model's (854) - ***worse***"
   ]
  },
  {
   "cell_type": "markdown",
   "metadata": {},
   "source": [
    "Despite fixing class imbalances using SMOTE , the quantity of support for each class in the resampled data may still be affected because SMOTE creates sample instances using data that is already in existence. In this case, the functional needs repair class had significantly less instances compared to other classes.\n",
    "\n",
    "Precision focuses on minimizing false positives, while recall focuses on minimizing false negatives therefore Improving precision may lead to a decrease in recall and vice versa as seen in our models above"
   ]
  },
  {
   "cell_type": "markdown",
   "metadata": {},
   "source": [
    "## MODEL 3\n",
    "Using gradient Boost Classifier"
   ]
  },
  {
   "cell_type": "code",
   "execution_count": null,
   "metadata": {},
   "outputs": [
    {
     "name": "stdout",
     "output_type": "stream",
     "text": [
      "                         precision    recall  f1-score   support\n",
      "\n",
      "             functional       0.75      0.80      0.77      6452\n",
      "functional needs repair       0.30      0.43      0.35       863\n",
      "         non functional       0.79      0.65      0.71      4565\n",
      "\n",
      "               accuracy                           0.71     11880\n",
      "              macro avg       0.61      0.62      0.61     11880\n",
      "           weighted avg       0.73      0.71      0.72     11880\n",
      "\n",
      "[[5154  630  668]\n",
      " [ 381  369  113]\n",
      " [1372  236 2957]]\n"
     ]
    }
   ],
   "source": [
    "from sklearn.ensemble import GradientBoostingClassifier\n",
    "\n",
    "# Gradient Boosting Classifier\n",
    "gb_classifier = GradientBoostingClassifier(n_estimators=100, learning_rate=0.1, max_depth=3, random_state=42)\n",
    "\n",
    "# Fit model on  scaled training data\n",
    "gb_classifier.fit(X_train_resampled, y_train_resampled)\n",
    "\n",
    "# Make predictions on scaled test set\n",
    "gb_y_pred = gb_classifier.predict(X_test_scaled)\n",
    "\n",
    "# evaluate performance\n",
    "print(classification_report(y_test, gb_y_pred))\n",
    "print(confusion_matrix(y_test, gb_y_pred))\n",
    "\n"
   ]
  },
  {
   "cell_type": "code",
   "execution_count": 314,
   "metadata": {},
   "outputs": [
    {
     "data": {
      "image/png": "[encoded data removed]",
      "text/plain": [
       "<Figure size 576x432 with 2 Axes>"
      ]
     },
     "metadata": {
      "needs_background": "light"
     },
     "output_type": "display_data"
    }
   ],
   "source": [
    "# confusion matrix\n",
    "confusion_matrix = [[5154 , 630 , 668],\n",
    "                [ 381 , 369 ,113],\n",
    "                    [1372 , 236 ,2957]]\n",
    "\n",
    "# class labels\n",
    "class_labels = ['functional', 'functional needs repair', 'non functional']\n",
    "\n",
    "# confusion matrix heatmap\n",
    "plt.figure(figsize=(8, 6))\n",
    "sns.heatmap(confusion_matrix, annot=True, fmt='d', cmap='Blues', xticklabels=class_labels, yticklabels=class_labels)\n",
    "\n",
    "#labels\n",
    "plt.xlabel('Predicted')\n",
    "plt.ylabel('True')\n",
    "plt.title('Confusion Matrix Heatmap')\n",
    "plt.show()"
   ]
  },
  {
   "cell_type": "markdown",
   "metadata": {},
   "source": [
    "This model performs worse as compared to the first and second model. It has an accuracy of 0.71"
   ]
  },
  {
   "cell_type": "markdown",
   "metadata": {},
   "source": [
    "## MODEL 4\n",
    "Using Logistic Regression"
   ]
  },
  {
   "cell_type": "code",
   "execution_count": null,
   "metadata": {},
   "outputs": [
    {
     "name": "stdout",
     "output_type": "stream",
     "text": [
      "                         precision    recall  f1-score   support\n",
      "\n",
      "             functional       0.76      0.61      0.68      6452\n",
      "functional needs repair       0.17      0.60      0.27       863\n",
      "         non functional       0.75      0.62      0.68      4565\n",
      "\n",
      "               accuracy                           0.61     11880\n",
      "              macro avg       0.56      0.61      0.54     11880\n",
      "           weighted avg       0.72      0.61      0.65     11880\n",
      "\n",
      "[[3947 1710  795]\n",
      " [ 219  516  128]\n",
      " [1012  732 2821]]\n"
     ]
    }
   ],
   "source": [
    "from sklearn.linear_model import LogisticRegression\n",
    "\n",
    "# Create a model\n",
    "logistic_model = LogisticRegression(multi_class='multinomial', solver='lbfgs', max_iter=1000, random_state=42)\n",
    "\n",
    "# Fit the model \n",
    "logistic_model.fit(X_train_resampled, y_train_resampled)\n",
    "\n",
    "# Make predictions \n",
    "logistic_y_pred = logistic_model.predict(X_test_scaled)\n",
    "\n",
    "#evaluate performance\n",
    "print(classification_report(y_test, logistic_y_pred))\n",
    "print(confusion_matrix(y_test, logistic_y_pred))"
   ]
  },
  {
   "cell_type": "code",
   "execution_count": null,
   "metadata": {},
   "outputs": [
    {
     "data": {
      "image/png": "[encoded data removed]",
      "text/plain": [
       "<Figure size 576x432 with 2 Axes>"
      ]
     },
     "metadata": {
      "needs_background": "light"
     },
     "output_type": "display_data"
    }
   ],
   "source": [
    "# confusion matrix\n",
    "confusion_matrix = [[3947 ,1710,  795],\n",
    "                [ 219 , 516 , 128],\n",
    "                [1012 , 732, 2821]]\n",
    "\n",
    "# class labels\n",
    "class_labels = ['functional', 'functional needs repair', 'non functional']\n",
    "\n",
    "# confusion matrix heatmap\n",
    "plt.figure(figsize=(8, 6))\n",
    "sns.heatmap(confusion_matrix, annot=True, fmt='d', cmap='Blues', xticklabels=class_labels, yticklabels=class_labels)\n",
    "\n",
    "#labels\n",
    "plt.xlabel('Predicted')\n",
    "plt.ylabel('True')\n",
    "plt.title('Confusion Matrix Heatmap')\n",
    "plt.show()"
   ]
  },
  {
   "cell_type": "markdown",
   "metadata": {},
   "source": [
    "Performs worse compared to the first second and third model"
   ]
  },
  {
   "cell_type": "markdown",
   "metadata": {},
   "source": [
    "## MODEL 5\n",
    "Using PCA. ( Principal Component Analysis.)"
   ]
  },
  {
   "cell_type": "code",
   "execution_count": null,
   "metadata": {},
   "outputs": [
    {
     "name": "stdout",
     "output_type": "stream",
     "text": [
      "[[5158  437  857]\n",
      " [ 354  348  161]\n",
      " [ 999  165 3401]]\n",
      "                         precision    recall  f1-score   support\n",
      "\n",
      "             functional       0.79      0.80      0.80      6452\n",
      "functional needs repair       0.37      0.40      0.38       863\n",
      "         non functional       0.77      0.75      0.76      4565\n",
      "\n",
      "               accuracy                           0.75     11880\n",
      "              macro avg       0.64      0.65      0.65     11880\n",
      "           weighted avg       0.75      0.75      0.75     11880\n",
      "\n"
     ]
    }
   ],
   "source": [
    "from sklearn.decomposition import PCA\n",
    "# threshold\n",
    "k_components = 0.95 \n",
    "pca = PCA(n_components=k_components)\n",
    "\n",
    "#fit model\n",
    "X_train_pca = pca.fit_transform(X_train_resampled)\n",
    "\n",
    "#transform test data\n",
    "X_test_pca = pca.transform(X_test_scaled)\n",
    "\n",
    "# Create Random Forest Classifier\n",
    "rf_classifier = RandomForestClassifier(random_state=42)\n",
    "\n",
    "# Fit the model on transformed data\n",
    "rf_classifier.fit(X_train_pca, y_train_resampled)\n",
    "\n",
    "# make predictions on x_test_pca\n",
    "y_predict_pca = rf_classifier.predict(X_test_pca)\n",
    "\n",
    "# Evaluate  accuracy\n",
    "print(confusion_matrix(y_test, y_predict_pca))\n",
    "print(classification_report(y_test, y_predict_pca))"
   ]
  },
  {
   "cell_type": "code",
   "execution_count": 315,
   "metadata": {},
   "outputs": [
    {
     "data": {
      "image/png": "[encoded data removed]",
      "text/plain": [
       "<Figure size 576x432 with 2 Axes>"
      ]
     },
     "metadata": {
      "needs_background": "light"
     },
     "output_type": "display_data"
    }
   ],
   "source": [
    "# confusion matrix\n",
    "confusion_matrix = [[5158 , 437 , 857],\n",
    "                [ 354, 348 , 161],\n",
    "                [ 999 , 165 ,3401]]\n",
    "\n",
    "# class labels\n",
    "class_labels = ['functional', 'functional needs repair', 'non functional']\n",
    "\n",
    "#confusion matrix heatmap\n",
    "plt.figure(figsize=(8, 6))\n",
    "sns.heatmap(confusion_matrix, annot=True, fmt='d', cmap='Blues', xticklabels=class_labels, yticklabels=class_labels)\n",
    "\n",
    "#labels\n",
    "plt.xlabel('Predicted')\n",
    "plt.ylabel('True')\n",
    "plt.title('Confusion Matrix Heatmap')\n",
    "plt.show()"
   ]
  },
  {
   "cell_type": "markdown",
   "metadata": {},
   "source": [
    "The model performs better than the third and fourth model"
   ]
  },
  {
   "cell_type": "markdown",
   "metadata": {},
   "source": [
    "## MODEL 6\n",
    "As previously mentioned, the primary objective is to reduce false negatives for the \"non-functional\" and \"functional needs repair\" classes while increasing their value. We may accomplish this by allocating higher weight to these classes. This will help to emphasise them during training and reduce false negatives. "
   ]
  },
  {
   "cell_type": "code",
   "execution_count": null,
   "metadata": {},
   "outputs": [
    {
     "name": "stdout",
     "output_type": "stream",
     "text": [
      "                         precision    recall  f1-score   support\n",
      "\n",
      "             functional       0.81      0.85      0.83      6452\n",
      "functional needs repair       0.44      0.42      0.43       863\n",
      "         non functional       0.83      0.78      0.80      4565\n",
      "\n",
      "               accuracy                           0.79     11880\n",
      "              macro avg       0.69      0.68      0.69     11880\n",
      "           weighted avg       0.79      0.79      0.79     11880\n",
      "\n",
      "[[5499  342  611]\n",
      " [ 371  360  132]\n",
      " [ 894  116 3555]]\n"
     ]
    }
   ],
   "source": [
    "# Create a Random Forest Classifier model with class weights\n",
    "class_weights = {'functional': 1, 'functional needs repair': 2, 'non functional': 3}\n",
    "rf_classifier = RandomForestClassifier(n_estimators=100, random_state=42, class_weight=class_weights)\n",
    "\n",
    "# Fit model on the scaled training data\n",
    "rf_classifier.fit(X_train_resampled, y_train_resampled)\n",
    "\n",
    "# Make predictions \n",
    "rf_y_pred = rf_classifier.predict(X_test_scaled)\n",
    "\n",
    "# evaluate accuracy\n",
    "print(classification_report(y_test, rf_y_pred))\n",
    "print(confusion_matrix(y_test, rf_y_pred))"
   ]
  },
  {
   "cell_type": "code",
   "execution_count": 317,
   "metadata": {},
   "outputs": [
    {
     "data": {
      "image/png": "[encoded data removed]",
      "text/plain": [
       "<Figure size 576x432 with 2 Axes>"
      ]
     },
     "metadata": {
      "needs_background": "light"
     },
     "output_type": "display_data"
    }
   ],
   "source": [
    "# onfusion matrix\n",
    "confusion_matrix = [[5499 , 342 , 611],\n",
    "                [ 371 , 360 , 132],\n",
    "                [ 894  ,116, 3555]]\n",
    "#class labels\n",
    "class_labels = ['functional', 'functional needs repair', 'non functional']\n",
    "\n",
    "# confusion matrix heatmap\n",
    "plt.figure(figsize=(8, 6))\n",
    "sns.heatmap(confusion_matrix, annot=True, fmt='d', cmap='Blues', xticklabels=class_labels, yticklabels=class_labels)\n",
    "\n",
    "plt.xlabel('Predicted')\n",
    "plt.ylabel('True')\n",
    "plt.title('Confusion Matrix Heatmap')\n",
    "plt.show()"
   ]
  },
  {
   "cell_type": "markdown",
   "metadata": {},
   "source": [
    "The weighted model has the same accuracy as the unweighted rf classifier model\n",
    "\n",
    " The weighted model correctly predicts (5499) functional wells compared to (5462). Wrongly predicts (342) functional as needs repair compared to (355) and predicts (611) functional as non fucntional compared to (635) ***Better***\n",
    "\n",
    " It predicts (360) need repair wells compared to (353) ***worse*** \n",
    " wrongly predicts (371) needs repair as functional compared to (377) ***better***\n",
    " And wrongly predicts (132) needs repair as non functional compared to (133) ***better***\n",
    "\n",
    " It predicts (3555) non functional wells compared to (3600) ***worse***\n",
    " (116) non functional as needs repair compared to (111) ***worse**\n",
    " And predicts (894) non functional wells as functional compared to (845) ***worse**\n",
    "\n",
    " Our biggest priority being the accuracy of predictions in the non functional and needs repair classes, the unweighted rf model has a better prediction compared to the weighted rf classifier model\n"
   ]
  },
  {
   "cell_type": "markdown",
   "metadata": {},
   "source": [
    "## MODEL 7"
   ]
  },
  {
   "cell_type": "markdown",
   "metadata": {},
   "source": [
    "Combining my top 3 performing models to improve my performance through ensambling"
   ]
  },
  {
   "cell_type": "code",
   "execution_count": null,
   "metadata": {},
   "outputs": [
    {
     "name": "stdout",
     "output_type": "stream",
     "text": [
      "[[5526  336  590]\n",
      " [ 367  376  120]\n",
      " [ 858  101 3606]]\n",
      "                         precision    recall  f1-score   support\n",
      "\n",
      "             functional       0.82      0.86      0.84      6452\n",
      "functional needs repair       0.46      0.44      0.45       863\n",
      "         non functional       0.84      0.79      0.81      4565\n",
      "\n",
      "               accuracy                           0.80     11880\n",
      "              macro avg       0.71      0.69      0.70     11880\n",
      "           weighted avg       0.80      0.80      0.80     11880\n",
      "\n"
     ]
    }
   ],
   "source": [
    "from sklearn.ensemble import VotingClassifier\n",
    "\n",
    "rf_classifier = RandomForestClassifier(random_state=42)\n",
    "xgb_classifier = XGBClassifier(random_state=42)\n",
    "pca_rf_classifier = RandomForestClassifier(random_state=42)\n",
    "\n",
    "# train models\n",
    "rf_classifier.fit(X_train_resampled, y_train_resampled)\n",
    "xgb_classifier.fit(X_train_resampled, y_train_resampled)\n",
    "pca_rf_classifier.fit(X_train_pca, y_train_resampled)\n",
    "\n",
    "# Voting Classifier \n",
    "voting_classifier = VotingClassifier(estimators=[\n",
    "    ('RandomForest', rf_classifier),\n",
    "    ('XGBoost', xgb_classifier),\n",
    "    ('PCA_RandomForest', pca_rf_classifier)\n",
    "], voting='soft')\n",
    "\n",
    "# fit classifier\n",
    "voting_classifier.fit(X_train_resampled, y_train_resampled)\n",
    "\n",
    "# predict\n",
    "y_predict_voting = voting_classifier.predict(X_test_scaled)\n",
    "\n",
    "# evaluate\n",
    "print(confusion_matrix(y_test, y_predict_voting))\n",
    "print(classification_report(y_test, y_predict_voting))"
   ]
  },
  {
   "cell_type": "code",
   "execution_count": 318,
   "metadata": {},
   "outputs": [
    {
     "data": {
      "image/png": "[encoded data removed]",
      "text/plain": [
       "<Figure size 576x432 with 2 Axes>"
      ]
     },
     "metadata": {
      "needs_background": "light"
     },
     "output_type": "display_data"
    }
   ],
   "source": [
    "# confusion matrix\n",
    "confusion_matrix = [[5526 , 336 , 590],\n",
    "                [ 367,  376 , 120],\n",
    "                [ 858 , 101 ,3606]]\n",
    "# class labels\n",
    "class_labels = ['functional', 'functional needs repair', 'non functional']\n",
    "\n",
    "# confusion matrix heatamap\n",
    "plt.figure(figsize=(8, 6))\n",
    "sns.heatmap(confusion_matrix, annot=True, fmt='d', cmap='Blues', xticklabels=class_labels, yticklabels=class_labels)\n",
    "\n",
    "plt.xlabel('Predicted')\n",
    "plt.ylabel('True')\n",
    "plt.title('Confusion Matrix Heatmap')\n",
    "plt.show()"
   ]
  },
  {
   "cell_type": "markdown",
   "metadata": {},
   "source": [
    "These combined model has the best predictions from all of my models"
   ]
  },
  {
   "cell_type": "markdown",
   "metadata": {},
   "source": [
    "**Model 7** created through ensabling is the best performing model out of our 7 models with an accuracy of 80.\n",
    "***We will compare its performance with the random forest classifier which was previously our best performing model***\n",
    "\n",
    "> <span style=\"color: blue\">*Functional*</span>\n",
    "\n",
    "It correctly predicts 5526 wells as functional compared to (5462) that was previously predicted by our random forest classifer , (336) functional wells were predicted as functional needs repair compared to (355) and (590) functional wells were predicted as non functional compared to (635)\n",
    "\n",
    "> <span style=\"color: blue\">*Functional Need Repair*</span>\n",
    "\n",
    "It predicted 376 wells as need repair compared to (353) , (367) as functional instead of need repair compared to (377) and (120) as non functional instead of need repair compared to (133)\n",
    "\n",
    "> <span style=\"color: blue\">*Non Functional*</span>\n",
    "\n",
    "It correctly predicted (3606) wells as non_functional compared to (3600) , wrongly predicted (101) wells as need repair compared to (111) and wrongly predicted (858) wells as functional compared to (854)\n",
    "\n",
    "> <span style=\"color: blue\">*Accuracy*</span>\n",
    "\n",
    "The accuracy is higher at 80%\n",
    "And the precision and recall scores are also higher in this model\n",
    "\n",
    "The overall performance of this model is better than the previously best performing model"
   ]
  },
  {
   "cell_type": "markdown",
   "metadata": {},
   "source": [
    "SAVING MY MODEL"
   ]
  },
  {
   "cell_type": "code",
   "execution_count": null,
   "metadata": {},
   "outputs": [
    {
     "data": {
      "text/plain": [
       "['voting_classifier_model.pkl']"
      ]
     },
     "execution_count": 134,
     "metadata": {},
     "output_type": "execute_result"
    }
   ],
   "source": [
    "import joblib\n",
    "\n",
    "# Save the trained model to a file\n",
    "joblib.dump(voting_classifier, 'voting_classifier_model.pkl')"
   ]
  },
  {
   "cell_type": "markdown",
   "metadata": {},
   "source": [
    "#### CHALLANGES FACED DURING MODELLING\n",
    "\n",
    "> <span style=\"color: blue\">*1. Class Imbalances*</span>\n",
    "\n",
    "Challanges faced during modelling were class imbalances which greatly affected the scores of the functional needs repair class as observerd\n",
    "\n",
    "> <span style=\"color: blue\">*2. Missing Information*</span>\n",
    "\n",
    "Missing information which made the cleaning process very tedious\n",
    "\n",
    "> <span style=\"color: blue\">3. *Undefined Categories*</span>\n",
    "\n",
    "There were alot of undefined categories which had to be stored in the 'other' and 'unknown' placeholders\n",
    "\n",
    "#### FURTHER DIRECTIONS\n",
    "\n",
    "> <span style=\"color: blue\">1. *Modelling*</span>\n",
    "\n",
    "Experiment with more models.\n",
    "\n",
    "> <span style=\"color: blue\">2. *Tuning*</span>\n",
    "\n",
    "It's possible that more fine tuning of models could bring more accuracy.\n",
    "\n",
    "> <span style=\"color: blue\">3. *Feature engineering*</span>\n",
    "\n",
    "More research could possibly bring up more features to add to the dataset or manipulation of certain features in the dataset to bring out more meaningful features.\n",
    "\n",
    "> <span style=\"color: blue\">3. *Data Collection*</span>\n",
    "\n",
    " Better data collection and documentation\n"
   ]
  },
  {
   "cell_type": "markdown",
   "metadata": {},
   "source": [
    "**Plot my features ranking them according to their importance using my random forest classifier**"
   ]
  },
  {
   "cell_type": "code",
   "execution_count": null,
   "metadata": {},
   "outputs": [
    {
     "data": {
      "image/png": "[encoded data removed]",
      "text/plain": [
       "<Figure size 1440x432 with 1 Axes>"
      ]
     },
     "metadata": {
      "needs_background": "light"
     },
     "output_type": "display_data"
    }
   ],
   "source": [
    "# Visual representation of all my features ranked according to their importance\n",
    "importances = rf_classifier.feature_importances_\n",
    "names = X_train.columns\n",
    "features = importances.argsort()[::-1]\n",
    "K = 88\n",
    "\n",
    "plt.figure(figsize=(20, 6))\n",
    "plt.title(\"Top Feature Importances\")\n",
    "plt.bar(range(K), importances[features][:K], align=\"center\")\n",
    "plt.xticks(range(K), [names[i] for i in features][:K], rotation=90)\n",
    "plt.xlabel(\"Feature\")\n",
    "plt.ylabel(\"Importance\")\n",
    "plt.tight_layout()\n",
    "plt.show()\n",
    "\n"
   ]
  },
  {
   "cell_type": "markdown",
   "metadata": {},
   "source": [
    "## MODEL PREDICTIONS ON MY TEST DATA \n",
    "\n",
    "Making use of my test_data. The test data has been cleaned following the same exact steps used in my training data set and the workings are in the\n",
    "cleaned_test_set_data.ipynb notebook"
   ]
  },
  {
   "cell_type": "code",
   "execution_count": null,
   "metadata": {},
   "outputs": [
    {
     "data": {
      "text/html": [
       "<div>\n",
       "<style scoped>\n",
       "    .dataframe tbody tr th:only-of-type {\n",
       "        vertical-align: middle;\n",
       "    }\n",
       "\n",
       "    .dataframe tbody tr th {\n",
       "        vertical-align: top;\n",
       "    }\n",
       "\n",
       "    .dataframe thead th {\n",
       "        text-align: right;\n",
       "    }\n",
       "</style>\n",
       "<table border=\"1\" class=\"dataframe\">\n",
       "  <thead>\n",
       "    <tr style=\"text-align: right;\">\n",
       "      <th></th>\n",
       "      <th>id</th>\n",
       "      <th>amount_tsh</th>\n",
       "      <th>funder</th>\n",
       "      <th>gps_height</th>\n",
       "      <th>installer</th>\n",
       "      <th>longitude</th>\n",
       "      <th>latitude</th>\n",
       "      <th>basin</th>\n",
       "      <th>region</th>\n",
       "      <th>region_code</th>\n",
       "      <th>...</th>\n",
       "      <th>public_meeting</th>\n",
       "      <th>permit</th>\n",
       "      <th>extraction_type</th>\n",
       "      <th>management</th>\n",
       "      <th>payment</th>\n",
       "      <th>water_quality</th>\n",
       "      <th>quantity</th>\n",
       "      <th>source</th>\n",
       "      <th>waterpoint_type</th>\n",
       "      <th>region_encoded</th>\n",
       "    </tr>\n",
       "  </thead>\n",
       "  <tbody>\n",
       "    <tr>\n",
       "      <th>0</th>\n",
       "      <td>50785</td>\n",
       "      <td>0.0</td>\n",
       "      <td>Dmdd</td>\n",
       "      <td>1996</td>\n",
       "      <td>DMDD</td>\n",
       "      <td>35.290799</td>\n",
       "      <td>-4.059696</td>\n",
       "      <td>Internal</td>\n",
       "      <td>Manyara</td>\n",
       "      <td>21</td>\n",
       "      <td>...</td>\n",
       "      <td>True</td>\n",
       "      <td>True</td>\n",
       "      <td>other</td>\n",
       "      <td>parastatal</td>\n",
       "      <td>never pay</td>\n",
       "      <td>soft</td>\n",
       "      <td>seasonal</td>\n",
       "      <td>rainwater harvesting</td>\n",
       "      <td>other</td>\n",
       "      <td>8</td>\n",
       "    </tr>\n",
       "    <tr>\n",
       "      <th>1</th>\n",
       "      <td>51630</td>\n",
       "      <td>0.0</td>\n",
       "      <td>Government Of Tanzania</td>\n",
       "      <td>1569</td>\n",
       "      <td>DWE</td>\n",
       "      <td>36.656709</td>\n",
       "      <td>-3.309214</td>\n",
       "      <td>Pangani</td>\n",
       "      <td>Arusha</td>\n",
       "      <td>2</td>\n",
       "      <td>...</td>\n",
       "      <td>True</td>\n",
       "      <td>True</td>\n",
       "      <td>gravity</td>\n",
       "      <td>vwc</td>\n",
       "      <td>never pay</td>\n",
       "      <td>soft</td>\n",
       "      <td>insufficient</td>\n",
       "      <td>spring</td>\n",
       "      <td>communal standpipe</td>\n",
       "      <td>0</td>\n",
       "    </tr>\n",
       "    <tr>\n",
       "      <th>2</th>\n",
       "      <td>17168</td>\n",
       "      <td>0.0</td>\n",
       "      <td>Tcrs</td>\n",
       "      <td>1567</td>\n",
       "      <td>SEMA</td>\n",
       "      <td>34.767863</td>\n",
       "      <td>-5.004344</td>\n",
       "      <td>Internal</td>\n",
       "      <td>Singida</td>\n",
       "      <td>13</td>\n",
       "      <td>...</td>\n",
       "      <td>True</td>\n",
       "      <td>unknown</td>\n",
       "      <td>other</td>\n",
       "      <td>vwc</td>\n",
       "      <td>never pay</td>\n",
       "      <td>soft</td>\n",
       "      <td>insufficient</td>\n",
       "      <td>rainwater harvesting</td>\n",
       "      <td>other</td>\n",
       "      <td>18</td>\n",
       "    </tr>\n",
       "    <tr>\n",
       "      <th>3</th>\n",
       "      <td>45559</td>\n",
       "      <td>0.0</td>\n",
       "      <td>Finn Water</td>\n",
       "      <td>267</td>\n",
       "      <td>FINN WATER</td>\n",
       "      <td>38.058046</td>\n",
       "      <td>-9.418672</td>\n",
       "      <td>Ruvuma / Southern Coast</td>\n",
       "      <td>Lindi</td>\n",
       "      <td>80</td>\n",
       "      <td>...</td>\n",
       "      <td>unknown</td>\n",
       "      <td>True</td>\n",
       "      <td>other</td>\n",
       "      <td>vwc</td>\n",
       "      <td>unknown</td>\n",
       "      <td>soft</td>\n",
       "      <td>dry</td>\n",
       "      <td>shallow well</td>\n",
       "      <td>other</td>\n",
       "      <td>7</td>\n",
       "    </tr>\n",
       "    <tr>\n",
       "      <th>4</th>\n",
       "      <td>49871</td>\n",
       "      <td>500.0</td>\n",
       "      <td>Bruder</td>\n",
       "      <td>1260</td>\n",
       "      <td>BRUDER</td>\n",
       "      <td>35.006123</td>\n",
       "      <td>-10.950412</td>\n",
       "      <td>Ruvuma / Southern Coast</td>\n",
       "      <td>Ruvuma</td>\n",
       "      <td>10</td>\n",
       "      <td>...</td>\n",
       "      <td>unknown</td>\n",
       "      <td>True</td>\n",
       "      <td>gravity</td>\n",
       "      <td>water board</td>\n",
       "      <td>pay monthly</td>\n",
       "      <td>soft</td>\n",
       "      <td>enough</td>\n",
       "      <td>spring</td>\n",
       "      <td>communal standpipe</td>\n",
       "      <td>16</td>\n",
       "    </tr>\n",
       "  </tbody>\n",
       "</table>\n",
       "<p>5 rows × 23 columns</p>\n",
       "</div>"
      ],
      "text/plain": [
       "      id  amount_tsh                  funder  gps_height   installer  \\\n",
       "0  50785         0.0                    Dmdd        1996        DMDD   \n",
       "1  51630         0.0  Government Of Tanzania        1569         DWE   \n",
       "2  17168         0.0                    Tcrs        1567        SEMA   \n",
       "3  45559         0.0              Finn Water         267  FINN WATER   \n",
       "4  49871       500.0                  Bruder        1260      BRUDER   \n",
       "\n",
       "   longitude   latitude                    basin   region  region_code  ...  \\\n",
       "0  35.290799  -4.059696                 Internal  Manyara           21  ...   \n",
       "1  36.656709  -3.309214                  Pangani   Arusha            2  ...   \n",
       "2  34.767863  -5.004344                 Internal  Singida           13  ...   \n",
       "3  38.058046  -9.418672  Ruvuma / Southern Coast    Lindi           80  ...   \n",
       "4  35.006123 -10.950412  Ruvuma / Southern Coast   Ruvuma           10  ...   \n",
       "\n",
       "  public_meeting   permit  extraction_type   management      payment  \\\n",
       "0           True     True            other   parastatal    never pay   \n",
       "1           True     True          gravity          vwc    never pay   \n",
       "2           True  unknown            other          vwc    never pay   \n",
       "3        unknown     True            other          vwc      unknown   \n",
       "4        unknown     True          gravity  water board  pay monthly   \n",
       "\n",
       "  water_quality      quantity                source     waterpoint_type  \\\n",
       "0          soft      seasonal  rainwater harvesting               other   \n",
       "1          soft  insufficient                spring  communal standpipe   \n",
       "2          soft  insufficient  rainwater harvesting               other   \n",
       "3          soft           dry          shallow well               other   \n",
       "4          soft        enough                spring  communal standpipe   \n",
       "\n",
       "  region_encoded  \n",
       "0              8  \n",
       "1              0  \n",
       "2             18  \n",
       "3              7  \n",
       "4             16  \n",
       "\n",
       "[5 rows x 23 columns]"
      ]
     },
     "execution_count": 106,
     "metadata": {},
     "output_type": "execute_result"
    }
   ],
   "source": [
    "# load the clean test set data\n",
    "test_set_data = pd.read_csv('clean_test_set_data.csv')\n",
    "test_set_data.drop(columns = 'Unnamed: 0' , inplace = True)\n",
    "test_set_data.head(5)"
   ]
  },
  {
   "cell_type": "code",
   "execution_count": null,
   "metadata": {},
   "outputs": [
    {
     "data": {
      "text/plain": [
       "23"
      ]
     },
     "execution_count": 107,
     "metadata": {},
     "output_type": "execute_result"
    }
   ],
   "source": [
    "# check length of columns\n",
    "len(test_set_data.columns)"
   ]
  },
  {
   "cell_type": "code",
   "execution_count": null,
   "metadata": {},
   "outputs": [],
   "source": [
    "# Extract the categorical columns in the test data\n",
    "categorical_columns_test = test_set_data.select_dtypes(include=['object'])\n",
    "\n",
    "# Use the same encoder used in the train set  to transform the categorical columns in the test data\n",
    "test_encoded = encoder.transform(categorical_columns_test)"
   ]
  },
  {
   "cell_type": "code",
   "execution_count": null,
   "metadata": {},
   "outputs": [],
   "source": [
    "# Drop the original categorical columns in the test data\n",
    "test_set_data.drop(columns=categorical_columns_test.columns, inplace=True)\n",
    "\n",
    "# Concatenate the encoded test data with the original test data\n",
    "test_set_data = pd.concat([test_set_data, test_encoded], axis=1)"
   ]
  },
  {
   "cell_type": "code",
   "execution_count": null,
   "metadata": {},
   "outputs": [
    {
     "data": {
      "text/plain": [
       "(14850, 89)"
      ]
     },
     "execution_count": 111,
     "metadata": {},
     "output_type": "execute_result"
    }
   ],
   "source": [
    "# confirm the shape is similar to train set\n",
    "test_set_data.shape"
   ]
  },
  {
   "cell_type": "code",
   "execution_count": null,
   "metadata": {},
   "outputs": [],
   "source": [
    "# scale our test data using the same scaler used on our train set data\n",
    "X_test_encoded_scaled = scaler.transform(test_set_data)"
   ]
  },
  {
   "cell_type": "code",
   "execution_count": null,
   "metadata": {},
   "outputs": [],
   "source": [
    "# load our model (Voting classifier model that was the best peforming)\n",
    "voting_classifier = joblib.load('voting_classifier_model.pkl')\n",
    "\n",
    "# Use model to make predictions on test data\n",
    "y_predict_voting = voting_classifier.predict(X_test_encoded_scaled)"
   ]
  },
  {
   "cell_type": "code",
   "execution_count": null,
   "metadata": {},
   "outputs": [
    {
     "data": {
      "text/plain": [
       "array(['non functional', 'functional needs repair', 'functional', ...,\n",
       "       'functional', 'functional', 'non functional'], dtype=object)"
      ]
     },
     "execution_count": 136,
     "metadata": {},
     "output_type": "execute_result"
    }
   ],
   "source": [
    "# closer view of predict_voting\n",
    "y_predict_voting"
   ]
  },
  {
   "cell_type": "code",
   "execution_count": null,
   "metadata": {},
   "outputs": [],
   "source": [
    "# Make a copy of y predict voting\n",
    "y_pred_copy = np.copy(y_predict_voting)"
   ]
  },
  {
   "cell_type": "code",
   "execution_count": null,
   "metadata": {},
   "outputs": [],
   "source": [
    "# convert to data frame\n",
    "y_predictions_df = pd.DataFrame({'Predicted_Labels': y_predict_voting})\n"
   ]
  },
  {
   "cell_type": "code",
   "execution_count": null,
   "metadata": {},
   "outputs": [],
   "source": [
    "# convert predictions to a csv file\n",
    "y_predictions_df.to_csv('predictions.csv')"
   ]
  },
  {
   "cell_type": "code",
   "execution_count": null,
   "metadata": {},
   "outputs": [],
   "source": [
    "# load predicts csv file\n",
    "status_group_predictions = pd.read_csv('predictions.csv')"
   ]
  },
  {
   "cell_type": "code",
   "execution_count": null,
   "metadata": {},
   "outputs": [
    {
     "data": {
      "text/html": [
       "<div>\n",
       "<style scoped>\n",
       "    .dataframe tbody tr th:only-of-type {\n",
       "        vertical-align: middle;\n",
       "    }\n",
       "\n",
       "    .dataframe tbody tr th {\n",
       "        vertical-align: top;\n",
       "    }\n",
       "\n",
       "    .dataframe thead th {\n",
       "        text-align: right;\n",
       "    }\n",
       "</style>\n",
       "<table border=\"1\" class=\"dataframe\">\n",
       "  <thead>\n",
       "    <tr style=\"text-align: right;\">\n",
       "      <th></th>\n",
       "      <th>Unnamed: 0</th>\n",
       "      <th>Predicted_Labels</th>\n",
       "    </tr>\n",
       "  </thead>\n",
       "  <tbody>\n",
       "    <tr>\n",
       "      <th>0</th>\n",
       "      <td>0</td>\n",
       "      <td>non functional</td>\n",
       "    </tr>\n",
       "    <tr>\n",
       "      <th>1</th>\n",
       "      <td>1</td>\n",
       "      <td>functional needs repair</td>\n",
       "    </tr>\n",
       "    <tr>\n",
       "      <th>2</th>\n",
       "      <td>2</td>\n",
       "      <td>functional</td>\n",
       "    </tr>\n",
       "    <tr>\n",
       "      <th>3</th>\n",
       "      <td>3</td>\n",
       "      <td>non functional</td>\n",
       "    </tr>\n",
       "    <tr>\n",
       "      <th>4</th>\n",
       "      <td>4</td>\n",
       "      <td>functional</td>\n",
       "    </tr>\n",
       "  </tbody>\n",
       "</table>\n",
       "</div>"
      ],
      "text/plain": [
       "   Unnamed: 0         Predicted_Labels\n",
       "0           0           non functional\n",
       "1           1  functional needs repair\n",
       "2           2               functional\n",
       "3           3           non functional\n",
       "4           4               functional"
      ]
     },
     "execution_count": 141,
     "metadata": {},
     "output_type": "execute_result"
    }
   ],
   "source": [
    "# view predictions\n",
    "status_group_predictions.head(5)"
   ]
  },
  {
   "cell_type": "code",
   "execution_count": null,
   "metadata": {},
   "outputs": [],
   "source": [
    "# combined predictions to our scaled data\n",
    "test_set_with_predictions = pd.concat([test_set_data, status_group_predictions], axis=1)"
   ]
  },
  {
   "cell_type": "code",
   "execution_count": null,
   "metadata": {},
   "outputs": [
    {
     "data": {
      "text/html": [
       "<div>\n",
       "<style scoped>\n",
       "    .dataframe tbody tr th:only-of-type {\n",
       "        vertical-align: middle;\n",
       "    }\n",
       "\n",
       "    .dataframe tbody tr th {\n",
       "        vertical-align: top;\n",
       "    }\n",
       "\n",
       "    .dataframe thead th {\n",
       "        text-align: right;\n",
       "    }\n",
       "</style>\n",
       "<table border=\"1\" class=\"dataframe\">\n",
       "  <thead>\n",
       "    <tr style=\"text-align: right;\">\n",
       "      <th></th>\n",
       "      <th>id</th>\n",
       "      <th>amount_tsh</th>\n",
       "      <th>funder</th>\n",
       "      <th>gps_height</th>\n",
       "      <th>installer</th>\n",
       "      <th>longitude</th>\n",
       "      <th>latitude</th>\n",
       "      <th>basin</th>\n",
       "      <th>region</th>\n",
       "      <th>region_code</th>\n",
       "      <th>...</th>\n",
       "      <th>public_meeting</th>\n",
       "      <th>permit</th>\n",
       "      <th>extraction_type</th>\n",
       "      <th>management</th>\n",
       "      <th>payment</th>\n",
       "      <th>water_quality</th>\n",
       "      <th>quantity</th>\n",
       "      <th>source</th>\n",
       "      <th>waterpoint_type</th>\n",
       "      <th>region_encoded</th>\n",
       "    </tr>\n",
       "  </thead>\n",
       "  <tbody>\n",
       "    <tr>\n",
       "      <th>0</th>\n",
       "      <td>50785</td>\n",
       "      <td>0.0</td>\n",
       "      <td>Dmdd</td>\n",
       "      <td>1996</td>\n",
       "      <td>DMDD</td>\n",
       "      <td>35.290799</td>\n",
       "      <td>-4.059696</td>\n",
       "      <td>Internal</td>\n",
       "      <td>Manyara</td>\n",
       "      <td>21</td>\n",
       "      <td>...</td>\n",
       "      <td>True</td>\n",
       "      <td>True</td>\n",
       "      <td>other</td>\n",
       "      <td>parastatal</td>\n",
       "      <td>never pay</td>\n",
       "      <td>soft</td>\n",
       "      <td>seasonal</td>\n",
       "      <td>rainwater harvesting</td>\n",
       "      <td>other</td>\n",
       "      <td>8</td>\n",
       "    </tr>\n",
       "    <tr>\n",
       "      <th>1</th>\n",
       "      <td>51630</td>\n",
       "      <td>0.0</td>\n",
       "      <td>Government Of Tanzania</td>\n",
       "      <td>1569</td>\n",
       "      <td>DWE</td>\n",
       "      <td>36.656709</td>\n",
       "      <td>-3.309214</td>\n",
       "      <td>Pangani</td>\n",
       "      <td>Arusha</td>\n",
       "      <td>2</td>\n",
       "      <td>...</td>\n",
       "      <td>True</td>\n",
       "      <td>True</td>\n",
       "      <td>gravity</td>\n",
       "      <td>vwc</td>\n",
       "      <td>never pay</td>\n",
       "      <td>soft</td>\n",
       "      <td>insufficient</td>\n",
       "      <td>spring</td>\n",
       "      <td>communal standpipe</td>\n",
       "      <td>0</td>\n",
       "    </tr>\n",
       "    <tr>\n",
       "      <th>2</th>\n",
       "      <td>17168</td>\n",
       "      <td>0.0</td>\n",
       "      <td>Tcrs</td>\n",
       "      <td>1567</td>\n",
       "      <td>SEMA</td>\n",
       "      <td>34.767863</td>\n",
       "      <td>-5.004344</td>\n",
       "      <td>Internal</td>\n",
       "      <td>Singida</td>\n",
       "      <td>13</td>\n",
       "      <td>...</td>\n",
       "      <td>True</td>\n",
       "      <td>unknown</td>\n",
       "      <td>other</td>\n",
       "      <td>vwc</td>\n",
       "      <td>never pay</td>\n",
       "      <td>soft</td>\n",
       "      <td>insufficient</td>\n",
       "      <td>rainwater harvesting</td>\n",
       "      <td>other</td>\n",
       "      <td>18</td>\n",
       "    </tr>\n",
       "    <tr>\n",
       "      <th>3</th>\n",
       "      <td>45559</td>\n",
       "      <td>0.0</td>\n",
       "      <td>Finn Water</td>\n",
       "      <td>267</td>\n",
       "      <td>FINN WATER</td>\n",
       "      <td>38.058046</td>\n",
       "      <td>-9.418672</td>\n",
       "      <td>Ruvuma / Southern Coast</td>\n",
       "      <td>Lindi</td>\n",
       "      <td>80</td>\n",
       "      <td>...</td>\n",
       "      <td>unknown</td>\n",
       "      <td>True</td>\n",
       "      <td>other</td>\n",
       "      <td>vwc</td>\n",
       "      <td>unknown</td>\n",
       "      <td>soft</td>\n",
       "      <td>dry</td>\n",
       "      <td>shallow well</td>\n",
       "      <td>other</td>\n",
       "      <td>7</td>\n",
       "    </tr>\n",
       "    <tr>\n",
       "      <th>4</th>\n",
       "      <td>49871</td>\n",
       "      <td>500.0</td>\n",
       "      <td>Bruder</td>\n",
       "      <td>1260</td>\n",
       "      <td>BRUDER</td>\n",
       "      <td>35.006123</td>\n",
       "      <td>-10.950412</td>\n",
       "      <td>Ruvuma / Southern Coast</td>\n",
       "      <td>Ruvuma</td>\n",
       "      <td>10</td>\n",
       "      <td>...</td>\n",
       "      <td>unknown</td>\n",
       "      <td>True</td>\n",
       "      <td>gravity</td>\n",
       "      <td>water board</td>\n",
       "      <td>pay monthly</td>\n",
       "      <td>soft</td>\n",
       "      <td>enough</td>\n",
       "      <td>spring</td>\n",
       "      <td>communal standpipe</td>\n",
       "      <td>16</td>\n",
       "    </tr>\n",
       "  </tbody>\n",
       "</table>\n",
       "<p>5 rows × 23 columns</p>\n",
       "</div>"
      ],
      "text/plain": [
       "      id  amount_tsh                  funder  gps_height   installer  \\\n",
       "0  50785         0.0                    Dmdd        1996        DMDD   \n",
       "1  51630         0.0  Government Of Tanzania        1569         DWE   \n",
       "2  17168         0.0                    Tcrs        1567        SEMA   \n",
       "3  45559         0.0              Finn Water         267  FINN WATER   \n",
       "4  49871       500.0                  Bruder        1260      BRUDER   \n",
       "\n",
       "   longitude   latitude                    basin   region  region_code  ...  \\\n",
       "0  35.290799  -4.059696                 Internal  Manyara           21  ...   \n",
       "1  36.656709  -3.309214                  Pangani   Arusha            2  ...   \n",
       "2  34.767863  -5.004344                 Internal  Singida           13  ...   \n",
       "3  38.058046  -9.418672  Ruvuma / Southern Coast    Lindi           80  ...   \n",
       "4  35.006123 -10.950412  Ruvuma / Southern Coast   Ruvuma           10  ...   \n",
       "\n",
       "  public_meeting   permit  extraction_type   management      payment  \\\n",
       "0           True     True            other   parastatal    never pay   \n",
       "1           True     True          gravity          vwc    never pay   \n",
       "2           True  unknown            other          vwc    never pay   \n",
       "3        unknown     True            other          vwc      unknown   \n",
       "4        unknown     True          gravity  water board  pay monthly   \n",
       "\n",
       "  water_quality      quantity                source     waterpoint_type  \\\n",
       "0          soft      seasonal  rainwater harvesting               other   \n",
       "1          soft  insufficient                spring  communal standpipe   \n",
       "2          soft  insufficient  rainwater harvesting               other   \n",
       "3          soft           dry          shallow well               other   \n",
       "4          soft        enough                spring  communal standpipe   \n",
       "\n",
       "  region_encoded  \n",
       "0              8  \n",
       "1              0  \n",
       "2             18  \n",
       "3              7  \n",
       "4             16  \n",
       "\n",
       "[5 rows x 23 columns]"
      ]
     },
     "execution_count": 150,
     "metadata": {},
     "output_type": "execute_result"
    }
   ],
   "source": [
    "# load the cleaned test data\n",
    "test = pd.read_csv('clean_test_set_data.csv')\n",
    "test.drop(columns = 'Unnamed: 0' , inplace = True)\n",
    "test.head(5)"
   ]
  },
  {
   "cell_type": "code",
   "execution_count": null,
   "metadata": {},
   "outputs": [],
   "source": [
    "# combine predicted labels with the test data\n",
    "predicted_test_set = pd.concat([test, status_group_predictions], axis=1)"
   ]
  },
  {
   "cell_type": "code",
   "execution_count": null,
   "metadata": {},
   "outputs": [
    {
     "data": {
      "text/html": [
       "<div>\n",
       "<style scoped>\n",
       "    .dataframe tbody tr th:only-of-type {\n",
       "        vertical-align: middle;\n",
       "    }\n",
       "\n",
       "    .dataframe tbody tr th {\n",
       "        vertical-align: top;\n",
       "    }\n",
       "\n",
       "    .dataframe thead th {\n",
       "        text-align: right;\n",
       "    }\n",
       "</style>\n",
       "<table border=\"1\" class=\"dataframe\">\n",
       "  <thead>\n",
       "    <tr style=\"text-align: right;\">\n",
       "      <th></th>\n",
       "      <th>id</th>\n",
       "      <th>amount_tsh</th>\n",
       "      <th>funder</th>\n",
       "      <th>gps_height</th>\n",
       "      <th>installer</th>\n",
       "      <th>longitude</th>\n",
       "      <th>latitude</th>\n",
       "      <th>basin</th>\n",
       "      <th>region</th>\n",
       "      <th>region_code</th>\n",
       "      <th>...</th>\n",
       "      <th>extraction_type</th>\n",
       "      <th>management</th>\n",
       "      <th>payment</th>\n",
       "      <th>water_quality</th>\n",
       "      <th>quantity</th>\n",
       "      <th>source</th>\n",
       "      <th>waterpoint_type</th>\n",
       "      <th>region_encoded</th>\n",
       "      <th>Unnamed: 0</th>\n",
       "      <th>Predicted_Labels</th>\n",
       "    </tr>\n",
       "  </thead>\n",
       "  <tbody>\n",
       "    <tr>\n",
       "      <th>0</th>\n",
       "      <td>50785</td>\n",
       "      <td>0.0</td>\n",
       "      <td>Dmdd</td>\n",
       "      <td>1996</td>\n",
       "      <td>DMDD</td>\n",
       "      <td>35.290799</td>\n",
       "      <td>-4.059696</td>\n",
       "      <td>Internal</td>\n",
       "      <td>Manyara</td>\n",
       "      <td>21</td>\n",
       "      <td>...</td>\n",
       "      <td>other</td>\n",
       "      <td>parastatal</td>\n",
       "      <td>never pay</td>\n",
       "      <td>soft</td>\n",
       "      <td>seasonal</td>\n",
       "      <td>rainwater harvesting</td>\n",
       "      <td>other</td>\n",
       "      <td>8</td>\n",
       "      <td>0</td>\n",
       "      <td>non functional</td>\n",
       "    </tr>\n",
       "    <tr>\n",
       "      <th>1</th>\n",
       "      <td>51630</td>\n",
       "      <td>0.0</td>\n",
       "      <td>Government Of Tanzania</td>\n",
       "      <td>1569</td>\n",
       "      <td>DWE</td>\n",
       "      <td>36.656709</td>\n",
       "      <td>-3.309214</td>\n",
       "      <td>Pangani</td>\n",
       "      <td>Arusha</td>\n",
       "      <td>2</td>\n",
       "      <td>...</td>\n",
       "      <td>gravity</td>\n",
       "      <td>vwc</td>\n",
       "      <td>never pay</td>\n",
       "      <td>soft</td>\n",
       "      <td>insufficient</td>\n",
       "      <td>spring</td>\n",
       "      <td>communal standpipe</td>\n",
       "      <td>0</td>\n",
       "      <td>1</td>\n",
       "      <td>functional needs repair</td>\n",
       "    </tr>\n",
       "    <tr>\n",
       "      <th>2</th>\n",
       "      <td>17168</td>\n",
       "      <td>0.0</td>\n",
       "      <td>Tcrs</td>\n",
       "      <td>1567</td>\n",
       "      <td>SEMA</td>\n",
       "      <td>34.767863</td>\n",
       "      <td>-5.004344</td>\n",
       "      <td>Internal</td>\n",
       "      <td>Singida</td>\n",
       "      <td>13</td>\n",
       "      <td>...</td>\n",
       "      <td>other</td>\n",
       "      <td>vwc</td>\n",
       "      <td>never pay</td>\n",
       "      <td>soft</td>\n",
       "      <td>insufficient</td>\n",
       "      <td>rainwater harvesting</td>\n",
       "      <td>other</td>\n",
       "      <td>18</td>\n",
       "      <td>2</td>\n",
       "      <td>functional</td>\n",
       "    </tr>\n",
       "    <tr>\n",
       "      <th>3</th>\n",
       "      <td>45559</td>\n",
       "      <td>0.0</td>\n",
       "      <td>Finn Water</td>\n",
       "      <td>267</td>\n",
       "      <td>FINN WATER</td>\n",
       "      <td>38.058046</td>\n",
       "      <td>-9.418672</td>\n",
       "      <td>Ruvuma / Southern Coast</td>\n",
       "      <td>Lindi</td>\n",
       "      <td>80</td>\n",
       "      <td>...</td>\n",
       "      <td>other</td>\n",
       "      <td>vwc</td>\n",
       "      <td>unknown</td>\n",
       "      <td>soft</td>\n",
       "      <td>dry</td>\n",
       "      <td>shallow well</td>\n",
       "      <td>other</td>\n",
       "      <td>7</td>\n",
       "      <td>3</td>\n",
       "      <td>non functional</td>\n",
       "    </tr>\n",
       "    <tr>\n",
       "      <th>4</th>\n",
       "      <td>49871</td>\n",
       "      <td>500.0</td>\n",
       "      <td>Bruder</td>\n",
       "      <td>1260</td>\n",
       "      <td>BRUDER</td>\n",
       "      <td>35.006123</td>\n",
       "      <td>-10.950412</td>\n",
       "      <td>Ruvuma / Southern Coast</td>\n",
       "      <td>Ruvuma</td>\n",
       "      <td>10</td>\n",
       "      <td>...</td>\n",
       "      <td>gravity</td>\n",
       "      <td>water board</td>\n",
       "      <td>pay monthly</td>\n",
       "      <td>soft</td>\n",
       "      <td>enough</td>\n",
       "      <td>spring</td>\n",
       "      <td>communal standpipe</td>\n",
       "      <td>16</td>\n",
       "      <td>4</td>\n",
       "      <td>functional</td>\n",
       "    </tr>\n",
       "  </tbody>\n",
       "</table>\n",
       "<p>5 rows × 25 columns</p>\n",
       "</div>"
      ],
      "text/plain": [
       "      id  amount_tsh                  funder  gps_height   installer  \\\n",
       "0  50785         0.0                    Dmdd        1996        DMDD   \n",
       "1  51630         0.0  Government Of Tanzania        1569         DWE   \n",
       "2  17168         0.0                    Tcrs        1567        SEMA   \n",
       "3  45559         0.0              Finn Water         267  FINN WATER   \n",
       "4  49871       500.0                  Bruder        1260      BRUDER   \n",
       "\n",
       "   longitude   latitude                    basin   region  region_code  ...  \\\n",
       "0  35.290799  -4.059696                 Internal  Manyara           21  ...   \n",
       "1  36.656709  -3.309214                  Pangani   Arusha            2  ...   \n",
       "2  34.767863  -5.004344                 Internal  Singida           13  ...   \n",
       "3  38.058046  -9.418672  Ruvuma / Southern Coast    Lindi           80  ...   \n",
       "4  35.006123 -10.950412  Ruvuma / Southern Coast   Ruvuma           10  ...   \n",
       "\n",
       "  extraction_type   management      payment water_quality      quantity  \\\n",
       "0           other   parastatal    never pay          soft      seasonal   \n",
       "1         gravity          vwc    never pay          soft  insufficient   \n",
       "2           other          vwc    never pay          soft  insufficient   \n",
       "3           other          vwc      unknown          soft           dry   \n",
       "4         gravity  water board  pay monthly          soft        enough   \n",
       "\n",
       "                 source     waterpoint_type region_encoded Unnamed: 0  \\\n",
       "0  rainwater harvesting               other              8          0   \n",
       "1                spring  communal standpipe              0          1   \n",
       "2  rainwater harvesting               other             18          2   \n",
       "3          shallow well               other              7          3   \n",
       "4                spring  communal standpipe             16          4   \n",
       "\n",
       "          Predicted_Labels  \n",
       "0           non functional  \n",
       "1  functional needs repair  \n",
       "2               functional  \n",
       "3           non functional  \n",
       "4               functional  \n",
       "\n",
       "[5 rows x 25 columns]"
      ]
     },
     "execution_count": 152,
     "metadata": {},
     "output_type": "execute_result"
    }
   ],
   "source": [
    "# closer look at the compined test data\n",
    "predicted_test_set.head()"
   ]
  },
  {
   "cell_type": "code",
   "execution_count": null,
   "metadata": {},
   "outputs": [],
   "source": [
    "# Save data frame to csv\n",
    "predicted_test_set.to_csv('predicted_test_set.csv')"
   ]
  },
  {
   "cell_type": "markdown",
   "metadata": {},
   "source": [
    "### ANALYSING THE PREDICTIONS MADE ON THE TEST DATA"
   ]
  },
  {
   "cell_type": "code",
   "execution_count": null,
   "metadata": {},
   "outputs": [
    {
     "data": {
      "text/html": [
       "<div>\n",
       "<style scoped>\n",
       "    .dataframe tbody tr th:only-of-type {\n",
       "        vertical-align: middle;\n",
       "    }\n",
       "\n",
       "    .dataframe tbody tr th {\n",
       "        vertical-align: top;\n",
       "    }\n",
       "\n",
       "    .dataframe thead th {\n",
       "        text-align: right;\n",
       "    }\n",
       "</style>\n",
       "<table border=\"1\" class=\"dataframe\">\n",
       "  <thead>\n",
       "    <tr style=\"text-align: right;\">\n",
       "      <th></th>\n",
       "      <th>id</th>\n",
       "      <th>amount_tsh</th>\n",
       "      <th>funder</th>\n",
       "      <th>gps_height</th>\n",
       "      <th>installer</th>\n",
       "      <th>longitude</th>\n",
       "      <th>latitude</th>\n",
       "      <th>basin</th>\n",
       "      <th>region</th>\n",
       "      <th>region_code</th>\n",
       "      <th>...</th>\n",
       "      <th>extraction_type</th>\n",
       "      <th>management</th>\n",
       "      <th>payment</th>\n",
       "      <th>water_quality</th>\n",
       "      <th>quantity</th>\n",
       "      <th>source</th>\n",
       "      <th>waterpoint_type</th>\n",
       "      <th>region_encoded</th>\n",
       "      <th>Unnamed: 0.1</th>\n",
       "      <th>Predicted_Labels</th>\n",
       "    </tr>\n",
       "  </thead>\n",
       "  <tbody>\n",
       "    <tr>\n",
       "      <th>7060</th>\n",
       "      <td>26671</td>\n",
       "      <td>0.0</td>\n",
       "      <td>Unicef</td>\n",
       "      <td>1656</td>\n",
       "      <td>TWESA</td>\n",
       "      <td>30.850045</td>\n",
       "      <td>-3.161856</td>\n",
       "      <td>Lake Tanganyika</td>\n",
       "      <td>Kigoma</td>\n",
       "      <td>16</td>\n",
       "      <td>...</td>\n",
       "      <td>gravity</td>\n",
       "      <td>other</td>\n",
       "      <td>unknown</td>\n",
       "      <td>soft</td>\n",
       "      <td>insufficient</td>\n",
       "      <td>rainwater harvesting</td>\n",
       "      <td>communal standpipe</td>\n",
       "      <td>5</td>\n",
       "      <td>7060</td>\n",
       "      <td>functional needs repair</td>\n",
       "    </tr>\n",
       "    <tr>\n",
       "      <th>5265</th>\n",
       "      <td>18229</td>\n",
       "      <td>20.0</td>\n",
       "      <td>Muwsa</td>\n",
       "      <td>762</td>\n",
       "      <td>MUWSA</td>\n",
       "      <td>37.337316</td>\n",
       "      <td>-3.367340</td>\n",
       "      <td>Pangani</td>\n",
       "      <td>Kilimanjaro</td>\n",
       "      <td>3</td>\n",
       "      <td>...</td>\n",
       "      <td>gravity</td>\n",
       "      <td>water authority</td>\n",
       "      <td>pay per bucket</td>\n",
       "      <td>unknown</td>\n",
       "      <td>insufficient</td>\n",
       "      <td>spring</td>\n",
       "      <td>communal standpipe multiple</td>\n",
       "      <td>6</td>\n",
       "      <td>5265</td>\n",
       "      <td>functional</td>\n",
       "    </tr>\n",
       "    <tr>\n",
       "      <th>3365</th>\n",
       "      <td>46118</td>\n",
       "      <td>0.0</td>\n",
       "      <td>Adra</td>\n",
       "      <td>1660</td>\n",
       "      <td>Adra</td>\n",
       "      <td>35.493731</td>\n",
       "      <td>-4.412219</td>\n",
       "      <td>Internal</td>\n",
       "      <td>Manyara</td>\n",
       "      <td>21</td>\n",
       "      <td>...</td>\n",
       "      <td>gravity</td>\n",
       "      <td>vwc</td>\n",
       "      <td>never pay</td>\n",
       "      <td>soft</td>\n",
       "      <td>insufficient</td>\n",
       "      <td>spring</td>\n",
       "      <td>communal standpipe</td>\n",
       "      <td>8</td>\n",
       "      <td>3365</td>\n",
       "      <td>functional</td>\n",
       "    </tr>\n",
       "    <tr>\n",
       "      <th>1233</th>\n",
       "      <td>70610</td>\n",
       "      <td>0.0</td>\n",
       "      <td>Halmashauri Ya Wilaya Sikonge</td>\n",
       "      <td>0</td>\n",
       "      <td>Halmashauri ya wilaya sikonge</td>\n",
       "      <td>33.213135</td>\n",
       "      <td>-6.841201</td>\n",
       "      <td>Lake Rukwa</td>\n",
       "      <td>Tabora</td>\n",
       "      <td>14</td>\n",
       "      <td>...</td>\n",
       "      <td>india mark ii</td>\n",
       "      <td>vwc</td>\n",
       "      <td>never pay</td>\n",
       "      <td>salty</td>\n",
       "      <td>enough</td>\n",
       "      <td>shallow well</td>\n",
       "      <td>hand pump</td>\n",
       "      <td>19</td>\n",
       "      <td>1233</td>\n",
       "      <td>functional</td>\n",
       "    </tr>\n",
       "    <tr>\n",
       "      <th>10283</th>\n",
       "      <td>11977</td>\n",
       "      <td>50.0</td>\n",
       "      <td>Private Individual</td>\n",
       "      <td>8</td>\n",
       "      <td>Da</td>\n",
       "      <td>38.932647</td>\n",
       "      <td>-6.507222</td>\n",
       "      <td>Wami / Ruvu</td>\n",
       "      <td>Pwani</td>\n",
       "      <td>6</td>\n",
       "      <td>...</td>\n",
       "      <td>ksb</td>\n",
       "      <td>private operator</td>\n",
       "      <td>pay per bucket</td>\n",
       "      <td>soft</td>\n",
       "      <td>enough</td>\n",
       "      <td>river</td>\n",
       "      <td>communal standpipe</td>\n",
       "      <td>14</td>\n",
       "      <td>10283</td>\n",
       "      <td>functional</td>\n",
       "    </tr>\n",
       "  </tbody>\n",
       "</table>\n",
       "<p>5 rows × 25 columns</p>\n",
       "</div>"
      ],
      "text/plain": [
       "          id  amount_tsh                         funder  gps_height  \\\n",
       "7060   26671         0.0                         Unicef        1656   \n",
       "5265   18229        20.0                          Muwsa         762   \n",
       "3365   46118         0.0                           Adra        1660   \n",
       "1233   70610         0.0  Halmashauri Ya Wilaya Sikonge           0   \n",
       "10283  11977        50.0             Private Individual           8   \n",
       "\n",
       "                           installer  longitude  latitude            basin  \\\n",
       "7060                           TWESA  30.850045 -3.161856  Lake Tanganyika   \n",
       "5265                           MUWSA  37.337316 -3.367340          Pangani   \n",
       "3365                            Adra  35.493731 -4.412219         Internal   \n",
       "1233   Halmashauri ya wilaya sikonge  33.213135 -6.841201       Lake Rukwa   \n",
       "10283                             Da  38.932647 -6.507222      Wami / Ruvu   \n",
       "\n",
       "            region  region_code  ... extraction_type        management  \\\n",
       "7060        Kigoma           16  ...         gravity             other   \n",
       "5265   Kilimanjaro            3  ...         gravity   water authority   \n",
       "3365       Manyara           21  ...         gravity               vwc   \n",
       "1233        Tabora           14  ...   india mark ii               vwc   \n",
       "10283        Pwani            6  ...             ksb  private operator   \n",
       "\n",
       "              payment water_quality      quantity                source  \\\n",
       "7060          unknown          soft  insufficient  rainwater harvesting   \n",
       "5265   pay per bucket       unknown  insufficient                spring   \n",
       "3365        never pay          soft  insufficient                spring   \n",
       "1233        never pay         salty        enough          shallow well   \n",
       "10283  pay per bucket          soft        enough                 river   \n",
       "\n",
       "                   waterpoint_type region_encoded Unnamed: 0.1  \\\n",
       "7060            communal standpipe              5         7060   \n",
       "5265   communal standpipe multiple              6         5265   \n",
       "3365            communal standpipe              8         3365   \n",
       "1233                     hand pump             19         1233   \n",
       "10283           communal standpipe             14        10283   \n",
       "\n",
       "              Predicted_Labels  \n",
       "7060   functional needs repair  \n",
       "5265                functional  \n",
       "3365                functional  \n",
       "1233                functional  \n",
       "10283               functional  \n",
       "\n",
       "[5 rows x 25 columns]"
      ]
     },
     "execution_count": 156,
     "metadata": {},
     "output_type": "execute_result"
    }
   ],
   "source": [
    "# load data\n",
    "predicted_test_set = pd.read_csv('predicted_test_set.csv' , index_col= 0)\n",
    "predicted_test_set.sample(5)"
   ]
  },
  {
   "cell_type": "markdown",
   "metadata": {},
   "source": [
    "> <span style=\"color: green\">*Distribution of wells according to functionality*</span>"
   ]
  },
  {
   "cell_type": "code",
   "execution_count": null,
   "metadata": {},
   "outputs": [
    {
     "data": {
      "text/plain": [
       "functional                 8673\n",
       "non functional             5380\n",
       "functional needs repair     797\n",
       "Name: Predicted_Labels, dtype: int64"
      ]
     },
     "execution_count": 160,
     "metadata": {},
     "output_type": "execute_result"
    }
   ],
   "source": [
    "predicted_test_set['Predicted_Labels'].value_counts()\n"
   ]
  },
  {
   "cell_type": "markdown",
   "metadata": {},
   "source": [
    "From our observation, there are 8673 functional wells, 5380 non functional wells and 797 wells that needed repair"
   ]
  },
  {
   "cell_type": "code",
   "execution_count": null,
   "metadata": {},
   "outputs": [
    {
     "data": {
      "image/png": "[encoded data removed]",
      "text/plain": [
       "<Figure size 864x432 with 1 Axes>"
      ]
     },
     "metadata": {
      "needs_background": "light"
     },
     "output_type": "display_data"
    }
   ],
   "source": [
    "\"\"\"Visual representation\"\"\"\n",
    "\n",
    "count = predicted_test_set['Predicted_Labels'].value_counts()\n",
    "\n",
    "# Plot graph\n",
    "plt.figure(figsize=(12, 6))\n",
    "sns.barplot(x=count.index, y=count.values, order=count.index)\n",
    "plt.xticks(rotation=90)\n",
    "\n",
    "#label\n",
    "plt.xlabel('Predicted Labels')\n",
    "plt.ylabel('Count')\n",
    "plt.title('Distribution of Predicted Labels')\n",
    "plt.tight_layout()\n",
    "\n",
    "# Show the plot\n",
    "plt.show()"
   ]
  },
  {
   "cell_type": "markdown",
   "metadata": {},
   "source": [
    "> <span style=\"color: green\">*Installer Vs Status Group*</span>"
   ]
  },
  {
   "cell_type": "markdown",
   "metadata": {},
   "source": [
    "See installers with the highest number of non functional wells"
   ]
  },
  {
   "cell_type": "code",
   "execution_count": null,
   "metadata": {},
   "outputs": [
    {
     "data": {
      "text/html": [
       "<div>\n",
       "<style scoped>\n",
       "    .dataframe tbody tr th:only-of-type {\n",
       "        vertical-align: middle;\n",
       "    }\n",
       "\n",
       "    .dataframe tbody tr th {\n",
       "        vertical-align: top;\n",
       "    }\n",
       "\n",
       "    .dataframe thead th {\n",
       "        text-align: right;\n",
       "    }\n",
       "</style>\n",
       "<table border=\"1\" class=\"dataframe\">\n",
       "  <thead>\n",
       "    <tr style=\"text-align: right;\">\n",
       "      <th></th>\n",
       "      <th>installer</th>\n",
       "      <th>non_functional_count</th>\n",
       "    </tr>\n",
       "  </thead>\n",
       "  <tbody>\n",
       "    <tr>\n",
       "      <th>0</th>\n",
       "      <td>DWE</td>\n",
       "      <td>1548</td>\n",
       "    </tr>\n",
       "    <tr>\n",
       "      <th>1</th>\n",
       "      <td>Government</td>\n",
       "      <td>267</td>\n",
       "    </tr>\n",
       "    <tr>\n",
       "      <th>2</th>\n",
       "      <td>RWE</td>\n",
       "      <td>185</td>\n",
       "    </tr>\n",
       "    <tr>\n",
       "      <th>3</th>\n",
       "      <td>KKKT</td>\n",
       "      <td>179</td>\n",
       "    </tr>\n",
       "    <tr>\n",
       "      <th>4</th>\n",
       "      <td>SEMA</td>\n",
       "      <td>115</td>\n",
       "    </tr>\n",
       "    <tr>\n",
       "      <th>5</th>\n",
       "      <td>DANIDA</td>\n",
       "      <td>106</td>\n",
       "    </tr>\n",
       "    <tr>\n",
       "      <th>6</th>\n",
       "      <td>TCRS</td>\n",
       "      <td>104</td>\n",
       "    </tr>\n",
       "    <tr>\n",
       "      <th>7</th>\n",
       "      <td>Central government</td>\n",
       "      <td>100</td>\n",
       "    </tr>\n",
       "    <tr>\n",
       "      <th>8</th>\n",
       "      <td>Commu</td>\n",
       "      <td>99</td>\n",
       "    </tr>\n",
       "    <tr>\n",
       "      <th>9</th>\n",
       "      <td>Hesawa</td>\n",
       "      <td>84</td>\n",
       "    </tr>\n",
       "    <tr>\n",
       "      <th>10</th>\n",
       "      <td>unknown</td>\n",
       "      <td>81</td>\n",
       "    </tr>\n",
       "    <tr>\n",
       "      <th>11</th>\n",
       "      <td>District council</td>\n",
       "      <td>78</td>\n",
       "    </tr>\n",
       "    <tr>\n",
       "      <th>12</th>\n",
       "      <td>HESAWA</td>\n",
       "      <td>55</td>\n",
       "    </tr>\n",
       "    <tr>\n",
       "      <th>13</th>\n",
       "      <td>LGA</td>\n",
       "      <td>53</td>\n",
       "    </tr>\n",
       "    <tr>\n",
       "      <th>14</th>\n",
       "      <td>FinW</td>\n",
       "      <td>41</td>\n",
       "    </tr>\n",
       "    <tr>\n",
       "      <th>15</th>\n",
       "      <td>FW</td>\n",
       "      <td>41</td>\n",
       "    </tr>\n",
       "    <tr>\n",
       "      <th>16</th>\n",
       "      <td>TASAF</td>\n",
       "      <td>38</td>\n",
       "    </tr>\n",
       "    <tr>\n",
       "      <th>17</th>\n",
       "      <td>Gover</td>\n",
       "      <td>38</td>\n",
       "    </tr>\n",
       "    <tr>\n",
       "      <th>18</th>\n",
       "      <td>WEDECO</td>\n",
       "      <td>36</td>\n",
       "    </tr>\n",
       "    <tr>\n",
       "      <th>19</th>\n",
       "      <td>Fini Water</td>\n",
       "      <td>36</td>\n",
       "    </tr>\n",
       "  </tbody>\n",
       "</table>\n",
       "</div>"
      ],
      "text/plain": [
       "             installer  non_functional_count\n",
       "0                  DWE                  1548\n",
       "1           Government                   267\n",
       "2                  RWE                   185\n",
       "3                 KKKT                   179\n",
       "4                 SEMA                   115\n",
       "5               DANIDA                   106\n",
       "6                 TCRS                   104\n",
       "7   Central government                   100\n",
       "8                Commu                    99\n",
       "9               Hesawa                    84\n",
       "10             unknown                    81\n",
       "11    District council                    78\n",
       "12              HESAWA                    55\n",
       "13                 LGA                    53\n",
       "14                FinW                    41\n",
       "15                  FW                    41\n",
       "16               TASAF                    38\n",
       "17               Gover                    38\n",
       "18              WEDECO                    36\n",
       "19          Fini Water                    36"
      ]
     },
     "execution_count": 205,
     "metadata": {},
     "output_type": "execute_result"
    }
   ],
   "source": [
    "query7 = \"\"\"SELECT installer, SUM(CASE WHEN Predicted_Labels = 'non functional' THEN 1 ELSE 0 END) AS non_functional_count\n",
    "FROM predicted_test_set\n",
    "GROUP BY installer\n",
    "ORDER BY non_functional_count DESC\n",
    "LIMIT 20 \"\"\" \n",
    "\n",
    "pysqldf = sqldf(query7)\n",
    "result = pysqldf\n",
    "result"
   ]
  },
  {
   "cell_type": "code",
   "execution_count": null,
   "metadata": {},
   "outputs": [],
   "source": [
    "# convert results to a data frame\n",
    "result_df = pd.DataFrame(result)"
   ]
  },
  {
   "cell_type": "code",
   "execution_count": null,
   "metadata": {},
   "outputs": [
    {
     "data": {
      "image/png": "[encoded data removed]",
      "text/plain": [
       "<Figure size 864x432 with 1 Axes>"
      ]
     },
     "metadata": {
      "needs_background": "light"
     },
     "output_type": "display_data"
    }
   ],
   "source": [
    "# visual representation of installers with the highest number of non functional wells\n",
    "plt.figure(figsize=(12, 6))\n",
    "plt.bar(result_df['installer'], result_df['non_functional_count'])\n",
    "plt.xticks(rotation=90)\n",
    "plt.xlabel('INSTALLER')\n",
    "plt.ylabel('NON FUNCTIONAL WELLS COUNT')\n",
    "plt.title('INSTALLERS WITH THE MOST NON FUNCTIONAL WELLS')\n",
    "plt.tight_layout()\n",
    "\n",
    "# Show the plot\n",
    "plt.show()"
   ]
  },
  {
   "cell_type": "markdown",
   "metadata": {},
   "source": [
    "Installers with the most functional wells"
   ]
  },
  {
   "cell_type": "code",
   "execution_count": null,
   "metadata": {},
   "outputs": [
    {
     "data": {
      "text/html": [
       "<div>\n",
       "<style scoped>\n",
       "    .dataframe tbody tr th:only-of-type {\n",
       "        vertical-align: middle;\n",
       "    }\n",
       "\n",
       "    .dataframe tbody tr th {\n",
       "        vertical-align: top;\n",
       "    }\n",
       "\n",
       "    .dataframe thead th {\n",
       "        text-align: right;\n",
       "    }\n",
       "</style>\n",
       "<table border=\"1\" class=\"dataframe\">\n",
       "  <thead>\n",
       "    <tr style=\"text-align: right;\">\n",
       "      <th></th>\n",
       "      <th>installer</th>\n",
       "      <th>functional_count</th>\n",
       "    </tr>\n",
       "  </thead>\n",
       "  <tbody>\n",
       "    <tr>\n",
       "      <th>0</th>\n",
       "      <td>DWE</td>\n",
       "      <td>2684</td>\n",
       "    </tr>\n",
       "    <tr>\n",
       "      <th>1</th>\n",
       "      <td>KKKT</td>\n",
       "      <td>405</td>\n",
       "    </tr>\n",
       "    <tr>\n",
       "      <th>2</th>\n",
       "      <td>Commu</td>\n",
       "      <td>187</td>\n",
       "    </tr>\n",
       "    <tr>\n",
       "      <th>3</th>\n",
       "      <td>Hesawa</td>\n",
       "      <td>152</td>\n",
       "    </tr>\n",
       "    <tr>\n",
       "      <th>4</th>\n",
       "      <td>CES</td>\n",
       "      <td>151</td>\n",
       "    </tr>\n",
       "    <tr>\n",
       "      <th>5</th>\n",
       "      <td>SEMA</td>\n",
       "      <td>144</td>\n",
       "    </tr>\n",
       "    <tr>\n",
       "      <th>6</th>\n",
       "      <td>unknown</td>\n",
       "      <td>134</td>\n",
       "    </tr>\n",
       "    <tr>\n",
       "      <th>7</th>\n",
       "      <td>DANIDA</td>\n",
       "      <td>128</td>\n",
       "    </tr>\n",
       "    <tr>\n",
       "      <th>8</th>\n",
       "      <td>Government</td>\n",
       "      <td>124</td>\n",
       "    </tr>\n",
       "    <tr>\n",
       "      <th>9</th>\n",
       "      <td>DANID</td>\n",
       "      <td>109</td>\n",
       "    </tr>\n",
       "    <tr>\n",
       "      <th>10</th>\n",
       "      <td>Community</td>\n",
       "      <td>106</td>\n",
       "    </tr>\n",
       "    <tr>\n",
       "      <th>11</th>\n",
       "      <td>HESAWA</td>\n",
       "      <td>78</td>\n",
       "    </tr>\n",
       "    <tr>\n",
       "      <th>12</th>\n",
       "      <td>RWE</td>\n",
       "      <td>76</td>\n",
       "    </tr>\n",
       "    <tr>\n",
       "      <th>13</th>\n",
       "      <td>WU</td>\n",
       "      <td>74</td>\n",
       "    </tr>\n",
       "    <tr>\n",
       "      <th>14</th>\n",
       "      <td>Dmdd</td>\n",
       "      <td>69</td>\n",
       "    </tr>\n",
       "    <tr>\n",
       "      <th>15</th>\n",
       "      <td>TCRS</td>\n",
       "      <td>67</td>\n",
       "    </tr>\n",
       "    <tr>\n",
       "      <th>16</th>\n",
       "      <td>District Council</td>\n",
       "      <td>67</td>\n",
       "    </tr>\n",
       "    <tr>\n",
       "      <th>17</th>\n",
       "      <td>World vision</td>\n",
       "      <td>66</td>\n",
       "    </tr>\n",
       "    <tr>\n",
       "      <th>18</th>\n",
       "      <td>ACRA</td>\n",
       "      <td>66</td>\n",
       "    </tr>\n",
       "    <tr>\n",
       "      <th>19</th>\n",
       "      <td>TASAF</td>\n",
       "      <td>64</td>\n",
       "    </tr>\n",
       "  </tbody>\n",
       "</table>\n",
       "</div>"
      ],
      "text/plain": [
       "           installer  functional_count\n",
       "0                DWE              2684\n",
       "1               KKKT               405\n",
       "2              Commu               187\n",
       "3             Hesawa               152\n",
       "4                CES               151\n",
       "5               SEMA               144\n",
       "6            unknown               134\n",
       "7             DANIDA               128\n",
       "8         Government               124\n",
       "9              DANID               109\n",
       "10         Community               106\n",
       "11            HESAWA                78\n",
       "12               RWE                76\n",
       "13                WU                74\n",
       "14              Dmdd                69\n",
       "15              TCRS                67\n",
       "16  District Council                67\n",
       "17      World vision                66\n",
       "18              ACRA                66\n",
       "19             TASAF                64"
      ]
     },
     "execution_count": 202,
     "metadata": {},
     "output_type": "execute_result"
    }
   ],
   "source": [
    "query8 = \"\"\"SELECT installer, SUM(CASE WHEN Predicted_Labels = 'functional' THEN 1 ELSE 0 END) AS functional_count\n",
    "FROM predicted_test_set\n",
    "GROUP BY installer\n",
    "ORDER BY functional_count DESC\n",
    "LIMIT 20 \"\"\" \n",
    "\n",
    "pysqldf = sqldf(query8)\n",
    "result1 = pysqldf\n",
    "result1\n"
   ]
  },
  {
   "cell_type": "code",
   "execution_count": 320,
   "metadata": {},
   "outputs": [
    {
     "data": {
      "image/png": "[encoded data removed]",
      "text/plain": [
       "<Figure size 864x432 with 1 Axes>"
      ]
     },
     "metadata": {
      "needs_background": "light"
     },
     "output_type": "display_data"
    }
   ],
   "source": [
    "# visual representation of installers with the highest number of  functional wells\n",
    "result1_df = pd.DataFrame(result1)\n",
    "plt.figure(figsize=(12, 6))\n",
    "plt.bar(result1_df['installer'], result1_df['functional_count'])\n",
    "plt.xticks(rotation=90)\n",
    "plt.xlabel('INSTALLER')\n",
    "plt.ylabel('FUNCTIONAL WELLS COUNT')\n",
    "plt.title('INSTALLERS WITH THE MOST FUNCTIONAL WELLS')\n",
    "plt.tight_layout()\n",
    "\n",
    "# Show the plot\n",
    "plt.show()"
   ]
  },
  {
   "cell_type": "markdown",
   "metadata": {},
   "source": [
    "***To analyse the effectivness of installers we see that ;***\n",
    "\n",
    "1.Despite having the highest number of non_functional wells , DWE also has the highest number of functional wells.It is essential to investigate the causes of the high number of non-functional wells and consider improvements to installation and maintenance practices.\n",
    "\n",
    "2.The Government installer has a relatively high number of non-functional wells (267) compared to their functional wells (124). \n",
    "\n",
    "3.RWE also has a relatively high number of non-functional wells (185) compared to functional ones (76). This indicates room for improvement in their well installations.\n",
    "\n",
    "4.Interpretation: KKKT has a relatively high count of functional wells(405), compared to the non functional (179) which is relatively okay.\n",
    "\n",
    "5.Hesawa has more functional wells(152) compared to the non-functional ones(84), suggesting their effectiveness in providing reliable water sources."
   ]
  },
  {
   "cell_type": "markdown",
   "metadata": {},
   "source": [
    "\n",
    "> <span style=\"color: green\">*Water quality vs status group*</span>\n",
    "\n",
    "Visual representation of water quality and functionality of wells"
   ]
  },
  {
   "cell_type": "code",
   "execution_count": 301,
   "metadata": {},
   "outputs": [
    {
     "data": {
      "image/png": "[encoded data removed]",
      "text/plain": [
       "<Figure size 720x432 with 1 Axes>"
      ]
     },
     "metadata": {
      "needs_background": "light"
     },
     "output_type": "display_data"
    }
   ],
   "source": [
    "quality_df = predicted_test_set.groupby(['water_quality', 'Predicted_Labels']).size().unstack().fillna(0)\n",
    "\n",
    "# Create a stacked bar graph\n",
    "ax = quality_df.plot(kind='bar', stacked=True, figsize=(10, 6))\n",
    "\n",
    "# Add labels and title\n",
    "plt.xlabel('WATER QUALITY')\n",
    "plt.ylabel('STATUS GROUP')\n",
    "plt.title('STATUS GROUP VS WATER QUALITY')\n",
    "\n",
    "# Show the plot\n",
    "plt.show()\n",
    "\n"
   ]
  },
  {
   "cell_type": "markdown",
   "metadata": {},
   "source": [
    "Most wells are soft water wells. Followed by salty water wells. Unknown wells are mostly non functional."
   ]
  },
  {
   "cell_type": "markdown",
   "metadata": {},
   "source": [
    "> <span style=\"color: green\">*Management Vs Status Group*</span>"
   ]
  },
  {
   "cell_type": "code",
   "execution_count": 310,
   "metadata": {},
   "outputs": [
    {
     "data": {
      "image/png": "[encoded data removed]",
      "text/plain": [
       "<Figure size 720x432 with 1 Axes>"
      ]
     },
     "metadata": {
      "needs_background": "light"
     },
     "output_type": "display_data"
    }
   ],
   "source": [
    "management_df = predicted_test_set.groupby(['management', 'Predicted_Labels']).size().unstack().fillna(0)\n",
    "\n",
    "# Create a stacked bar graph\n",
    "ax = management_df.plot(kind='bar', stacked=True, figsize=(10, 6))\n",
    "\n",
    "# Add labels and title\n",
    "plt.xlabel('MANAGEMENT')\n",
    "plt.ylabel('MANAGEMENT GROUP')\n",
    "plt.title('STATUS GROUP VS MANAGEMENT')\n",
    "\n",
    "# Show the plot\n",
    "plt.show()\n"
   ]
  },
  {
   "cell_type": "markdown",
   "metadata": {},
   "source": [
    "VWC has the highest number of wells under its management followed by WUG. Trusts and schools have the lowest amount of wells under their management"
   ]
  }
 ],
 "metadata": {
  "kernelspec": {
   "display_name": "Python 3 (ipykernel)",
   "language": "python",
   "name": "python3"
  },
  "language_info": {
   "codemirror_mode": {
    "name": "ipython",
    "version": 3
   },
   "file_extension": ".py",
   "mimetype": "text/x-python",
   "name": "python",
   "nbconvert_exporter": "python",
   "pygments_lexer": "ipython3",
   "version": "3.8.5"
  }
 },
 "nbformat": 4,
 "nbformat_minor": 4
}
